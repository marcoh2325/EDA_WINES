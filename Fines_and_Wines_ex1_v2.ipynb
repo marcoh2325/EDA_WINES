{
 "cells": [
  {
   "cell_type": "markdown",
   "id": "b3a6aef7",
   "metadata": {},
   "source": [
    "# FINES_AND_WINES: Exercise 1 v2"
   ]
  },
  {
   "cell_type": "markdown",
   "id": "e4ed9dc3",
   "metadata": {},
   "source": [
    "Squad name: FORECASTING"
   ]
  },
  {
   "cell_type": "markdown",
   "id": "01c80e2e",
   "metadata": {},
   "source": [
    "Members: Sergio Salvador, Marco Hernani, Helen Navarro, Berta Pfaff"
   ]
  },
  {
   "cell_type": "markdown",
   "id": "40275bb1",
   "metadata": {},
   "source": [
    "# Exercise 1 - MADRID OPEN DATA"
   ]
  },
  {
   "cell_type": "markdown",
   "id": "df2f4656",
   "metadata": {},
   "source": [
    "Exploration, analysis and data visualization exercise. We will work with data on infractions committed by drivers in the city of Madrid. The data and information about it was taken from this website https://datos.madrid.es/portal/site/egob/menuitem.c05c1f754a33a9fbe4b2e4b284f1a5a0/?vgnextoid=fb9a498a6bdb9410VgnVCM1000000b205a0aRCRD&vgnextchannel=374512b9ace9f310VgnVCM100000171f5a0aRCRD&vgnextfmt=default"
   ]
  },
  {
   "cell_type": "markdown",
   "id": "a992ea77",
   "metadata": {},
   "source": [
    "## Load data"
   ]
  },
  {
   "cell_type": "markdown",
   "id": "aac821bb",
   "metadata": {},
   "source": [
    "We read twelve csv files related to the data for all months for 2020 (one csv file for each month) and join all that data into a single dataframe."
   ]
  },
  {
   "cell_type": "markdown",
   "id": "b3c6a49c",
   "metadata": {},
   "source": [
    "We observe that all datasets had the same columns information, in the same order but some columns names were sligtly different from one dataset to other.\n",
    "That's why we force the names of the columns. So it's the same for all dataframes, before adding the data to the dataframe with all the information"
   ]
  },
  {
   "cell_type": "code",
   "execution_count": 1,
   "id": "8a2e5fc2",
   "metadata": {},
   "outputs": [],
   "source": [
    "import pandas as pd\n",
    "import matplotlib.pyplot as plt\n",
    "import numpy as np\n",
    "import seaborn as sns\n",
    "import glob\n",
    "\n",
    "import os"
   ]
  },
  {
   "cell_type": "code",
   "execution_count": 2,
   "id": "195f9b44",
   "metadata": {
    "scrolled": true
   },
   "outputs": [
    {
     "name": "stdout",
     "output_type": "stream",
     "text": [
      "File names: ['202001_detalle.csv', '202002_detalle.csv', '202003_detalle.csv', '202004_detalle.csv', '202005_detalle.csv', '202006_detalle.csv', '202007_detalle.csv', '202008_detalle.csv', '202009_detalle.csv', '202010_detalle.csv', '202011_detalle.csv', '202012_detalle.csv']\n"
     ]
    }
   ],
   "source": [
    "#Path where the files are located\n",
    "path = \"Files\"\n",
    "os.chdir(path)\n",
    "#We use glob module to filter for a specific file pattern\n",
    "file_list = glob.glob(\"2020*.csv\")\n",
    "print('File names:', file_list)"
   ]
  },
  {
   "cell_type": "markdown",
   "id": "36f8307f",
   "metadata": {},
   "source": [
    "First let's see if all dataframes have the same columns:"
   ]
  },
  {
   "cell_type": "code",
   "execution_count": 3,
   "id": "750ab237",
   "metadata": {},
   "outputs": [
    {
     "name": "stderr",
     "output_type": "stream",
     "text": [
      "C:\\Users\\marco\\AppData\\Local\\Temp\\ipykernel_10472\\1440438889.py:3: DtypeWarning: Columns (10,11) have mixed types. Specify dtype option on import or set low_memory=False.\n",
      "  df = pd.read_csv(file ,delimiter= \";\" , encoding = \"latin_1\" )\n"
     ]
    },
    {
     "data": {
      "text/plain": [
       "{' PUNTOS',\n",
       " 'ANIO',\n",
       " 'CALIFICACION',\n",
       " 'COORDENADA-X',\n",
       " 'COORDENADA-Y                                                                                                                                ',\n",
       " 'COORDENADA_X',\n",
       " 'COORDENADA_Y',\n",
       " 'DENUNCIANTE',\n",
       " 'DESCUENTO',\n",
       " 'HECHO-BOL',\n",
       " 'HORA',\n",
       " 'IMP_BOL',\n",
       " 'LUGAR',\n",
       " 'MES',\n",
       " 'PUNTOS',\n",
       " 'VEL_CIRCULA',\n",
       " 'VEL_CIRCULA ',\n",
       " 'VEL_LIMITE'}"
      ]
     },
     "execution_count": 3,
     "metadata": {},
     "output_type": "execute_result"
    }
   ],
   "source": [
    "cols_name = []\n",
    "for file in file_list:\n",
    "    df = pd.read_csv(file ,delimiter= \";\" , encoding = \"latin_1\" )\n",
    "    cols_name.extend(df.columns)\n",
    "set(cols_name)"
   ]
  },
  {
   "cell_type": "markdown",
   "id": "71ca7166",
   "metadata": {},
   "source": [
    "Thanks to the info on the website. We know that all csv had the same columns. In the code above We checked that the same column can be written in a different way. That's why when creating a dataframe that contains all the data in all the csv files, We set the names of the columns."
   ]
  },
  {
   "cell_type": "code",
   "execution_count": 4,
   "id": "2b9b311c",
   "metadata": {},
   "outputs": [
    {
     "name": "stderr",
     "output_type": "stream",
     "text": [
      "C:\\Users\\marco\\AppData\\Local\\Temp\\ipykernel_10472\\2852830480.py:8: DtypeWarning: Columns (10,11) have mixed types. Specify dtype option on import or set low_memory=False.\n",
      "  df_aux = pd.read_csv(file,delimiter= \";\" , encoding = \"latin_1\" )\n"
     ]
    }
   ],
   "source": [
    "choosen_cols_name = ['CALIFICACION','LUGAR','MES','ANIO','HORA','IMP_BOL','DESCUENTO',\n",
    "                            'PUNTOS','DENUNCIANTE','HECHO-BOL','VEL_LIMITE','VEL_CIRCULA',\n",
    "                            'COORDENADA_X', 'COORDENADA_Y']\n",
    "\n",
    "df_list = []\n",
    "\n",
    "for file in file_list:\n",
    "    df_aux = pd.read_csv(file,delimiter= \";\" , encoding = \"latin_1\" )\n",
    "    df_aux = df_aux.set_axis(choosen_cols_name, axis=1)\n",
    "    df_list.append(df_aux)\n",
    "    \n",
    "df = pd.concat(df_list)"
   ]
  },
  {
   "cell_type": "code",
   "execution_count": 5,
   "id": "bd5d1d87",
   "metadata": {},
   "outputs": [
    {
     "data": {
      "text/html": [
       "<div>\n",
       "<style scoped>\n",
       "    .dataframe tbody tr th:only-of-type {\n",
       "        vertical-align: middle;\n",
       "    }\n",
       "\n",
       "    .dataframe tbody tr th {\n",
       "        vertical-align: top;\n",
       "    }\n",
       "\n",
       "    .dataframe thead th {\n",
       "        text-align: right;\n",
       "    }\n",
       "</style>\n",
       "<table border=\"1\" class=\"dataframe\">\n",
       "  <thead>\n",
       "    <tr style=\"text-align: right;\">\n",
       "      <th></th>\n",
       "      <th>CALIFICACION</th>\n",
       "      <th>LUGAR</th>\n",
       "      <th>MES</th>\n",
       "      <th>ANIO</th>\n",
       "      <th>HORA</th>\n",
       "      <th>IMP_BOL</th>\n",
       "      <th>DESCUENTO</th>\n",
       "      <th>PUNTOS</th>\n",
       "      <th>DENUNCIANTE</th>\n",
       "      <th>HECHO-BOL</th>\n",
       "      <th>VEL_LIMITE</th>\n",
       "      <th>VEL_CIRCULA</th>\n",
       "      <th>COORDENADA_X</th>\n",
       "      <th>COORDENADA_Y</th>\n",
       "    </tr>\n",
       "  </thead>\n",
       "  <tbody>\n",
       "    <tr>\n",
       "      <th>0</th>\n",
       "      <td>GRAVE</td>\n",
       "      <td>ALFONSO XII</td>\n",
       "      <td>1</td>\n",
       "      <td>2020</td>\n",
       "      <td>12.18</td>\n",
       "      <td>200.0</td>\n",
       "      <td>SI</td>\n",
       "      <td>3</td>\n",
       "      <td>POLICIA MUNICIPAL</td>\n",
       "      <td>CONDUCIR UTILIZANDO MANUALMENTE TELEFONÍA MÓVI...</td>\n",
       "      <td></td>\n",
       "      <td></td>\n",
       "      <td></td>\n",
       "      <td></td>\n",
       "    </tr>\n",
       "    <tr>\n",
       "      <th>1</th>\n",
       "      <td>GRAVE</td>\n",
       "      <td>AV BADAJOZ 5</td>\n",
       "      <td>1</td>\n",
       "      <td>2020</td>\n",
       "      <td>9.46</td>\n",
       "      <td>200.0</td>\n",
       "      <td>SI</td>\n",
       "      <td>0</td>\n",
       "      <td>POLICIA MUNICIPAL</td>\n",
       "      <td>ESTACIONAR EN DOBLE FILA.                     ...</td>\n",
       "      <td></td>\n",
       "      <td></td>\n",
       "      <td></td>\n",
       "      <td></td>\n",
       "    </tr>\n",
       "    <tr>\n",
       "      <th>2</th>\n",
       "      <td>LEVE</td>\n",
       "      <td>ARISTOTELES 7 POSTERIOR</td>\n",
       "      <td>1</td>\n",
       "      <td>2020</td>\n",
       "      <td>13.55</td>\n",
       "      <td>90.0</td>\n",
       "      <td>SI</td>\n",
       "      <td>0</td>\n",
       "      <td>POLICIA MUNICIPAL</td>\n",
       "      <td>ESTACIONAR EN LUGAR PROHIBIDO.                ...</td>\n",
       "      <td></td>\n",
       "      <td></td>\n",
       "      <td></td>\n",
       "      <td></td>\n",
       "    </tr>\n",
       "    <tr>\n",
       "      <th>3</th>\n",
       "      <td>LEVE</td>\n",
       "      <td>ARISTOTELES 7 POSTERIOR</td>\n",
       "      <td>1</td>\n",
       "      <td>2020</td>\n",
       "      <td>14.00</td>\n",
       "      <td>90.0</td>\n",
       "      <td>SI</td>\n",
       "      <td>0</td>\n",
       "      <td>POLICIA MUNICIPAL</td>\n",
       "      <td>ESTACIONAR EN LUGAR PROHIBIDO.                ...</td>\n",
       "      <td></td>\n",
       "      <td></td>\n",
       "      <td></td>\n",
       "      <td></td>\n",
       "    </tr>\n",
       "    <tr>\n",
       "      <th>4</th>\n",
       "      <td>LEVE</td>\n",
       "      <td>VIRGEN DE LLUC 70</td>\n",
       "      <td>1</td>\n",
       "      <td>2020</td>\n",
       "      <td>12.12</td>\n",
       "      <td>90.0</td>\n",
       "      <td>SI</td>\n",
       "      <td>0</td>\n",
       "      <td>POLICIA MUNICIPAL</td>\n",
       "      <td>ESTACIONAR SOBRE LA ACERA.                    ...</td>\n",
       "      <td></td>\n",
       "      <td></td>\n",
       "      <td></td>\n",
       "      <td></td>\n",
       "    </tr>\n",
       "    <tr>\n",
       "      <th>...</th>\n",
       "      <td>...</td>\n",
       "      <td>...</td>\n",
       "      <td>...</td>\n",
       "      <td>...</td>\n",
       "      <td>...</td>\n",
       "      <td>...</td>\n",
       "      <td>...</td>\n",
       "      <td>...</td>\n",
       "      <td>...</td>\n",
       "      <td>...</td>\n",
       "      <td>...</td>\n",
       "      <td>...</td>\n",
       "      <td>...</td>\n",
       "      <td>...</td>\n",
       "    </tr>\n",
       "    <tr>\n",
       "      <th>205934</th>\n",
       "      <td>LEVE</td>\n",
       "      <td>CL PADRE DAMIAN 19</td>\n",
       "      <td>12</td>\n",
       "      <td>2020</td>\n",
       "      <td>14.14</td>\n",
       "      <td>90.0</td>\n",
       "      <td>SI</td>\n",
       "      <td>0</td>\n",
       "      <td>SER</td>\n",
       "      <td>ESTACIONAR, SIN LA CORRESPONDIENTE AUTORIZACIÓ...</td>\n",
       "      <td></td>\n",
       "      <td></td>\n",
       "      <td></td>\n",
       "      <td></td>\n",
       "    </tr>\n",
       "    <tr>\n",
       "      <th>205935</th>\n",
       "      <td>LEVE</td>\n",
       "      <td>CL JUAN RAMON JIMENEZ 2</td>\n",
       "      <td>12</td>\n",
       "      <td>2020</td>\n",
       "      <td>14.23</td>\n",
       "      <td>90.0</td>\n",
       "      <td>SI</td>\n",
       "      <td>0</td>\n",
       "      <td>SER</td>\n",
       "      <td>ESTACIONAR EN LUGAR PROHIBIDO. VEHÍCULO DE CAT...</td>\n",
       "      <td></td>\n",
       "      <td></td>\n",
       "      <td></td>\n",
       "      <td></td>\n",
       "    </tr>\n",
       "    <tr>\n",
       "      <th>205936</th>\n",
       "      <td>LEVE</td>\n",
       "      <td>CL JUAN RAMON JIMENEZ 15</td>\n",
       "      <td>12</td>\n",
       "      <td>2020</td>\n",
       "      <td>14.30</td>\n",
       "      <td>90.0</td>\n",
       "      <td>SI</td>\n",
       "      <td>0</td>\n",
       "      <td>SER</td>\n",
       "      <td>ESTACIONAR, SIN LA CORRESPONDIENTE AUTORIZACIÓ...</td>\n",
       "      <td></td>\n",
       "      <td></td>\n",
       "      <td></td>\n",
       "      <td></td>\n",
       "    </tr>\n",
       "    <tr>\n",
       "      <th>205937</th>\n",
       "      <td>LEVE</td>\n",
       "      <td>CL VICTOR DE LA SERNA 1</td>\n",
       "      <td>12</td>\n",
       "      <td>2020</td>\n",
       "      <td>9.51</td>\n",
       "      <td>90.0</td>\n",
       "      <td>SI</td>\n",
       "      <td>0</td>\n",
       "      <td>SER</td>\n",
       "      <td>ESTACIONAR, SIN LA CORRESPONDIENTE AUTORIZACIÓ...</td>\n",
       "      <td></td>\n",
       "      <td></td>\n",
       "      <td></td>\n",
       "      <td></td>\n",
       "    </tr>\n",
       "    <tr>\n",
       "      <th>205938</th>\n",
       "      <td>LEVE</td>\n",
       "      <td>CL VICTOR DE LA SERNA 5</td>\n",
       "      <td>12</td>\n",
       "      <td>2020</td>\n",
       "      <td>10.55</td>\n",
       "      <td>60.0</td>\n",
       "      <td>SI</td>\n",
       "      <td>0</td>\n",
       "      <td>SER</td>\n",
       "      <td>ESTACIONAR CON AUTORIZACIÓN NO VÁLIDA.        ...</td>\n",
       "      <td></td>\n",
       "      <td></td>\n",
       "      <td></td>\n",
       "      <td></td>\n",
       "    </tr>\n",
       "  </tbody>\n",
       "</table>\n",
       "<p>1993304 rows × 14 columns</p>\n",
       "</div>"
      ],
      "text/plain": [
       "       CALIFICACION                                     LUGAR  MES  ANIO   \n",
       "0        GRAVE       ALFONSO XII                                 1  2020  \\\n",
       "1        GRAVE       AV BADAJOZ 5                                1  2020   \n",
       "2        LEVE        ARISTOTELES 7 POSTERIOR                     1  2020   \n",
       "3        LEVE        ARISTOTELES 7 POSTERIOR                     1  2020   \n",
       "4        LEVE        VIRGEN DE LLUC 70                           1  2020   \n",
       "...             ...                                       ...  ...   ...   \n",
       "205934   LEVE        CL PADRE DAMIAN 19                         12  2020   \n",
       "205935   LEVE        CL JUAN RAMON JIMENEZ 2                    12  2020   \n",
       "205936   LEVE        CL JUAN RAMON JIMENEZ 15                   12  2020   \n",
       "205937   LEVE        CL VICTOR DE LA SERNA 1                    12  2020   \n",
       "205938   LEVE        CL VICTOR DE LA SERNA 5                    12  2020   \n",
       "\n",
       "         HORA  IMP_BOL DESCUENTO  PUNTOS           DENUNCIANTE   \n",
       "0       12.18    200.0        SI       3  POLICIA MUNICIPAL     \\\n",
       "1        9.46    200.0        SI       0  POLICIA MUNICIPAL      \n",
       "2       13.55     90.0        SI       0  POLICIA MUNICIPAL      \n",
       "3       14.00     90.0        SI       0  POLICIA MUNICIPAL      \n",
       "4       12.12     90.0        SI       0  POLICIA MUNICIPAL      \n",
       "...       ...      ...       ...     ...                   ...   \n",
       "205934  14.14     90.0        SI       0  SER                    \n",
       "205935  14.23     90.0        SI       0  SER                    \n",
       "205936  14.30     90.0        SI       0  SER                    \n",
       "205937   9.51     90.0        SI       0  SER                    \n",
       "205938  10.55     60.0        SI       0  SER                    \n",
       "\n",
       "                                                HECHO-BOL VEL_LIMITE   \n",
       "0       CONDUCIR UTILIZANDO MANUALMENTE TELEFONÍA MÓVI...             \\\n",
       "1       ESTACIONAR EN DOBLE FILA.                     ...              \n",
       "2       ESTACIONAR EN LUGAR PROHIBIDO.                ...              \n",
       "3       ESTACIONAR EN LUGAR PROHIBIDO.                ...              \n",
       "4       ESTACIONAR SOBRE LA ACERA.                    ...              \n",
       "...                                                   ...        ...   \n",
       "205934  ESTACIONAR, SIN LA CORRESPONDIENTE AUTORIZACIÓ...              \n",
       "205935  ESTACIONAR EN LUGAR PROHIBIDO. VEHÍCULO DE CAT...              \n",
       "205936  ESTACIONAR, SIN LA CORRESPONDIENTE AUTORIZACIÓ...              \n",
       "205937  ESTACIONAR, SIN LA CORRESPONDIENTE AUTORIZACIÓ...              \n",
       "205938  ESTACIONAR CON AUTORIZACIÓN NO VÁLIDA.        ...              \n",
       "\n",
       "       VEL_CIRCULA COORDENADA_X   COORDENADA_Y  \n",
       "0                                               \n",
       "1                                               \n",
       "2                                               \n",
       "3                                               \n",
       "4                                               \n",
       "...            ...          ...            ...  \n",
       "205934                                          \n",
       "205935                                          \n",
       "205936                                          \n",
       "205937                                          \n",
       "205938                                          \n",
       "\n",
       "[1993304 rows x 14 columns]"
      ]
     },
     "execution_count": 5,
     "metadata": {},
     "output_type": "execute_result"
    }
   ],
   "source": [
    "df"
   ]
  },
  {
   "cell_type": "code",
   "execution_count": 6,
   "id": "c9ba8601",
   "metadata": {},
   "outputs": [
    {
     "data": {
      "text/plain": [
       "Index(['CALIFICACION', 'LUGAR', 'MES', 'ANIO', 'HORA', 'IMP_BOL', 'DESCUENTO',\n",
       "       'PUNTOS', 'DENUNCIANTE', 'HECHO-BOL', 'VEL_LIMITE', 'VEL_CIRCULA',\n",
       "       'COORDENADA_X', 'COORDENADA_Y'],\n",
       "      dtype='object')"
      ]
     },
     "execution_count": 6,
     "metadata": {},
     "output_type": "execute_result"
    }
   ],
   "source": [
    "df.columns"
   ]
  },
  {
   "cell_type": "markdown",
   "id": "fec82908",
   "metadata": {},
   "source": [
    "## Transformation of the dataframe and Analysis"
   ]
  },
  {
   "cell_type": "markdown",
   "id": "0f66fa3c",
   "metadata": {},
   "source": [
    "As such, we are not going to work with geographic data, delete the __COORDENADA_X__ and __COORDENADA_Y__ columns.\n"
   ]
  },
  {
   "cell_type": "code",
   "execution_count": 7,
   "id": "0277eb60",
   "metadata": {},
   "outputs": [
    {
     "data": {
      "text/plain": [
       "Index(['CALIFICACION', 'LUGAR', 'MES', 'ANIO', 'HORA', 'IMP_BOL', 'DESCUENTO',\n",
       "       'PUNTOS', 'DENUNCIANTE', 'HECHO-BOL', 'VEL_LIMITE', 'VEL_CIRCULA',\n",
       "       'COORDENADA_X', 'COORDENADA_Y'],\n",
       "      dtype='object')"
      ]
     },
     "execution_count": 7,
     "metadata": {},
     "output_type": "execute_result"
    }
   ],
   "source": [
    "df.columns"
   ]
  },
  {
   "cell_type": "code",
   "execution_count": 8,
   "id": "3f86c684",
   "metadata": {
    "scrolled": true
   },
   "outputs": [
    {
     "data": {
      "text/plain": [
       "Index(['CALIFICACION', 'LUGAR', 'MES', 'ANIO', 'HORA', 'IMP_BOL', 'DESCUENTO',\n",
       "       'PUNTOS', 'DENUNCIANTE', 'HECHO-BOL', 'VEL_LIMITE', 'VEL_CIRCULA'],\n",
       "      dtype='object')"
      ]
     },
     "execution_count": 8,
     "metadata": {},
     "output_type": "execute_result"
    }
   ],
   "source": [
    "df.drop([\"COORDENADA_X\", \"COORDENADA_Y\"], axis=1, inplace=True)\n",
    "df.columns"
   ]
  },
  {
   "cell_type": "markdown",
   "id": "3a5d2478",
   "metadata": {},
   "source": [
    "1993304 rows × 12 columns"
   ]
  },
  {
   "cell_type": "markdown",
   "id": "5aa7cc00",
   "metadata": {},
   "source": [
    "We check which columns have constant variables and remove them from the dataframe.Because they don't give us relevant information."
   ]
  },
  {
   "cell_type": "code",
   "execution_count": 9,
   "id": "e6f2cd42",
   "metadata": {},
   "outputs": [
    {
     "name": "stdout",
     "output_type": "stream",
     "text": [
      "ANIO [2020]\n",
      "DESCUENTO ['SI']\n"
     ]
    }
   ],
   "source": [
    "for col in df.columns: \n",
    "    # How many unique elements does each column have?\n",
    "    col_unique_values = df[col].unique()\n",
    "    if len(col_unique_values)==1:\n",
    "        print(col, col_unique_values)\n",
    "        #If the column just has one unique value we drop it\n",
    "        df.drop(col, axis=1, inplace=True)"
   ]
  },
  {
   "cell_type": "code",
   "execution_count": 10,
   "id": "c07cc6ce",
   "metadata": {
    "scrolled": true
   },
   "outputs": [
    {
     "data": {
      "text/plain": [
       "Index(['CALIFICACION', 'LUGAR', 'MES', 'HORA', 'IMP_BOL', 'PUNTOS',\n",
       "       'DENUNCIANTE', 'HECHO-BOL', 'VEL_LIMITE', 'VEL_CIRCULA'],\n",
       "      dtype='object')"
      ]
     },
     "execution_count": 10,
     "metadata": {},
     "output_type": "execute_result"
    }
   ],
   "source": [
    "df.columns"
   ]
  },
  {
   "cell_type": "markdown",
   "id": "bb088052",
   "metadata": {},
   "source": [
    "There are empty cells (no values or NaN) in VEL_LIMITE and VEL_CIRCULA, this is because the infraction was not caused by exceeding any speed limit. We will change those empty cells by NaNs."
   ]
  },
  {
   "cell_type": "markdown",
   "id": "a3654f74",
   "metadata": {},
   "source": [
    "`r'^\\s*$'` this a regular expression (regex) that matches empty lines and white spaces\n",
    "\n",
    "Regex is a sequence of characters that forms a search pattern.\n",
    "\n",
    "We write a code that substitute all empty cell (the ones that match the pattern) with NaNs."
   ]
  },
  {
   "cell_type": "code",
   "execution_count": 11,
   "id": "43a08e7d",
   "metadata": {},
   "outputs": [],
   "source": [
    "df.VEL_LIMITE = df.VEL_LIMITE.replace(r'^\\s*$', np.NaN, regex= True)\n",
    "df.VEL_CIRCULA = df.VEL_CIRCULA.replace(r'^\\s*$', np.NaN, regex= True)"
   ]
  },
  {
   "cell_type": "code",
   "execution_count": 12,
   "id": "55a4e546",
   "metadata": {},
   "outputs": [
    {
     "data": {
      "text/plain": [
       "array([nan, ' 70', ' 60', ' 50', ' 90', ' 40', ' 30', ' 80', ' 20', 70,\n",
       "       90, 50], dtype=object)"
      ]
     },
     "execution_count": 12,
     "metadata": {},
     "output_type": "execute_result"
    }
   ],
   "source": [
    "df.VEL_LIMITE.unique()"
   ]
  },
  {
   "cell_type": "code",
   "execution_count": 13,
   "id": "e261d908",
   "metadata": {
    "scrolled": true
   },
   "outputs": [
    {
     "data": {
      "text/plain": [
       "array([nan, '135', '139', ' 84', ' 65', ' 63', ' 85', ' 75', ' 66', ' 61',\n",
       "       ' 67', ' 62', ' 68', ' 71', ' 76', ' 69', ' 70', ' 64', ' 72',\n",
       "       ' 73', ' 77', ' 82', ' 79', ' 74', ' 86', ' 78', ' 92', ' 88',\n",
       "       ' 99', ' 91', ' 81', ' 96', ' 80', ' 87', '108', '111', ' 95',\n",
       "       ' 97', '103', '101', '100', '106', ' 98', '102', '122', '105',\n",
       "       '110', '109', '104', ' 93', ' 83', ' 60', '112', ' 90', ' 89',\n",
       "       '133', '118', '113', '107', ' 94', '123', '131', '150', '115',\n",
       "       '114', '116', '120', '117', '125', '127', '124', ' 57', ' 59',\n",
       "       ' 55', ' 58', ' 54', ' 43', ' 47', ' 45', ' 44', '132', '142',\n",
       "       '126', '130', '119', '121', '128', '145', '138', ' 49', ' 46',\n",
       "       ' 51', ' 52', ' 56', ' 41', ' 40', ' 42', ' 48', ' 50', ' 53',\n",
       "       '137', '143', ' 37', ' 39', '129', '141', '134', '140', '147',\n",
       "       '136', '160', '144', '155', '149', '148', '151', ' 36', ' 38',\n",
       "       ' 34', ' 35', '156', '152', '154', '157', '146', '153', '159',\n",
       "       ' 33', 76, 74, 75, 81, 80, 79, 82, 85, 77, 97, 105, 95, 103, 102,\n",
       "       96, 100, 114, 99, 104, 109, 98, 111, 101, 107, 108, 117, 106, 83,\n",
       "       78, 84, 88, 94, 90, 92, 86, 129, 110, 125, 155, 113, 124, 133, 121,\n",
       "       112, 141, 87, 89, 91, 93, 60, 61, 62, 64, 65, 63, 68, 67, 72, 66,\n",
       "       119, 115, 137, 135, 128, 127, 118, 116, 69, 71, 126, 122, 142, 70,\n",
       "       123, 148, 120, 140, '158', ' 32'], dtype=object)"
      ]
     },
     "execution_count": 13,
     "metadata": {},
     "output_type": "execute_result"
    }
   ],
   "source": [
    "df.VEL_CIRCULA.unique()"
   ]
  },
  {
   "cell_type": "markdown",
   "id": "949db727",
   "metadata": {},
   "source": [
    "Even though the velocity magnitude is purely numerical. In this case de VEL_LIMITE and VEL_CIRCULA columns are recognized as \"object\" type. That's because these columns contain NaN values, so we will change these NaN to 0, so We can change the type of these columns to numeric."
   ]
  },
  {
   "cell_type": "code",
   "execution_count": 14,
   "id": "8c3e2ce2",
   "metadata": {},
   "outputs": [],
   "source": [
    "df.VEL_LIMITE = df.VEL_LIMITE.replace(np.NaN, 0)\n",
    "df.VEL_CIRCULA = df.VEL_CIRCULA.replace(np.NaN, 0)"
   ]
  },
  {
   "cell_type": "code",
   "execution_count": 15,
   "id": "5bbc9aa2",
   "metadata": {},
   "outputs": [
    {
     "data": {
      "text/plain": [
       "VEL_LIMITE     int32\n",
       "VEL_CIRCULA    int32\n",
       "dtype: object"
      ]
     },
     "execution_count": 15,
     "metadata": {},
     "output_type": "execute_result"
    }
   ],
   "source": [
    "df.VEL_LIMITE = df.VEL_LIMITE.astype(int)\n",
    "df.VEL_CIRCULA = df.VEL_CIRCULA.astype(int)\n",
    "df.loc[:, [\"VEL_LIMITE\", \"VEL_CIRCULA\"]].dtypes"
   ]
  },
  {
   "cell_type": "markdown",
   "id": "5c493e0b",
   "metadata": {},
   "source": [
    "¿Which is the most repeated speed limit other than zero in all the infractions data?"
   ]
  },
  {
   "cell_type": "code",
   "execution_count": 16,
   "id": "2fb47b38",
   "metadata": {},
   "outputs": [
    {
     "data": {
      "text/plain": [
       "70"
      ]
     },
     "execution_count": 16,
     "metadata": {},
     "output_type": "execute_result"
    }
   ],
   "source": [
    "#how many times each value is repeated\n",
    "repeticions = df.value_counts(df.VEL_LIMITE)\n",
    "#We drop the zero\n",
    "repeticions.drop(0, inplace=True)\n",
    "#We get the most repeated velocity\n",
    "repeticions.index[0]"
   ]
  },
  {
   "cell_type": "markdown",
   "id": "b06a19f5",
   "metadata": {},
   "source": [
    "We want to create a column called DIFFERENCE_KMH that is the result of substracting from each value of the speed at which the driver was circulating with the speed limit there was where the infraction occured. So We can obtain the top 10 drivers that exceeded the limits the most."
   ]
  },
  {
   "cell_type": "markdown",
   "id": "3ae448af",
   "metadata": {},
   "source": [
    "We have then proceeded to create a column called DIFFERENCE_KMH in which the difference between the circulation velocity (VEL_CIRCULA) and the limit velocity (VEL_LIMIT)."
   ]
  },
  {
   "cell_type": "code",
   "execution_count": 17,
   "id": "87001a4a",
   "metadata": {},
   "outputs": [],
   "source": [
    "df[\"DIFFERENCE_KMH\"] = df[\"VEL_CIRCULA\"] - df[\"VEL_LIMITE\"]"
   ]
  },
  {
   "cell_type": "markdown",
   "id": "95e2c279",
   "metadata": {},
   "source": [
    "Finally We obtain the top 10 of drivers that exceeded more the limit of velocity."
   ]
  },
  {
   "cell_type": "code",
   "execution_count": 18,
   "id": "45c7cd76",
   "metadata": {},
   "outputs": [
    {
     "data": {
      "text/html": [
       "<div>\n",
       "<style scoped>\n",
       "    .dataframe tbody tr th:only-of-type {\n",
       "        vertical-align: middle;\n",
       "    }\n",
       "\n",
       "    .dataframe tbody tr th {\n",
       "        vertical-align: top;\n",
       "    }\n",
       "\n",
       "    .dataframe thead th {\n",
       "        text-align: right;\n",
       "    }\n",
       "</style>\n",
       "<table border=\"1\" class=\"dataframe\">\n",
       "  <thead>\n",
       "    <tr style=\"text-align: right;\">\n",
       "      <th></th>\n",
       "      <th>CALIFICACION</th>\n",
       "      <th>LUGAR</th>\n",
       "      <th>MES</th>\n",
       "      <th>HORA</th>\n",
       "      <th>IMP_BOL</th>\n",
       "      <th>PUNTOS</th>\n",
       "      <th>DENUNCIANTE</th>\n",
       "      <th>HECHO-BOL</th>\n",
       "      <th>VEL_LIMITE</th>\n",
       "      <th>VEL_CIRCULA</th>\n",
       "      <th>DIFFERENCE_KMH</th>\n",
       "    </tr>\n",
       "  </thead>\n",
       "  <tbody>\n",
       "    <tr>\n",
       "      <th>71</th>\n",
       "      <td>GRAVE</td>\n",
       "      <td>M 30 FT KM 4,150 CR 1</td>\n",
       "      <td>3</td>\n",
       "      <td>23.43</td>\n",
       "      <td>500.0</td>\n",
       "      <td>6</td>\n",
       "      <td>POLICIA MUNICIPAL</td>\n",
       "      <td>SOBREPASAR LA VELOCIDAD MÁXIMA EN VÍAS LIMITAD...</td>\n",
       "      <td>70</td>\n",
       "      <td>140</td>\n",
       "      <td>70</td>\n",
       "    </tr>\n",
       "    <tr>\n",
       "      <th>75936</th>\n",
       "      <td>GRAVE</td>\n",
       "      <td>M 30 XC KM 10,300 CR 3</td>\n",
       "      <td>9</td>\n",
       "      <td>23.25</td>\n",
       "      <td>500.0</td>\n",
       "      <td>6</td>\n",
       "      <td>POLICIA MUNICIPAL</td>\n",
       "      <td>SOBREPASAR LA VELOCIDAD MÁXIMA EN VÍAS LIMITAD...</td>\n",
       "      <td>70</td>\n",
       "      <td>140</td>\n",
       "      <td>70</td>\n",
       "    </tr>\n",
       "    <tr>\n",
       "      <th>68661</th>\n",
       "      <td>GRAVE</td>\n",
       "      <td>M 30 KM 6,700 CR 3 CALZADA 1</td>\n",
       "      <td>11</td>\n",
       "      <td>7.53</td>\n",
       "      <td>500.0</td>\n",
       "      <td>6</td>\n",
       "      <td>POLICIA MUNICIPAL</td>\n",
       "      <td>SOBREPASAR LA VELOCIDAD MÁXIMA EN VÍAS LIMITAD...</td>\n",
       "      <td>90</td>\n",
       "      <td>160</td>\n",
       "      <td>70</td>\n",
       "    </tr>\n",
       "    <tr>\n",
       "      <th>75935</th>\n",
       "      <td>GRAVE</td>\n",
       "      <td>M 30 KM 7,800 CALZADA 2</td>\n",
       "      <td>9</td>\n",
       "      <td>1.11</td>\n",
       "      <td>500.0</td>\n",
       "      <td>6</td>\n",
       "      <td>POLICIA MUNICIPAL</td>\n",
       "      <td>SOBREPASAR LA VELOCIDAD MÁXIMA EN VÍAS LIMITAD...</td>\n",
       "      <td>90</td>\n",
       "      <td>160</td>\n",
       "      <td>70</td>\n",
       "    </tr>\n",
       "    <tr>\n",
       "      <th>61556</th>\n",
       "      <td>GRAVE</td>\n",
       "      <td>M 30 KM 27 DECRECIENTE C 2</td>\n",
       "      <td>2</td>\n",
       "      <td>4.57</td>\n",
       "      <td>500.0</td>\n",
       "      <td>6</td>\n",
       "      <td>POLICIA MUNICIPAL</td>\n",
       "      <td>SOBREPASAR LA VELOCIDAD MÁXIMA EN VÍAS LIMITAD...</td>\n",
       "      <td>90</td>\n",
       "      <td>160</td>\n",
       "      <td>70</td>\n",
       "    </tr>\n",
       "    <tr>\n",
       "      <th>59480</th>\n",
       "      <td>GRAVE</td>\n",
       "      <td>M 30 KM 27 CARRIL 2 CALZADA 2</td>\n",
       "      <td>10</td>\n",
       "      <td>2.11</td>\n",
       "      <td>500.0</td>\n",
       "      <td>6</td>\n",
       "      <td>POLICIA MUNICIPAL</td>\n",
       "      <td>SOBREPASAR LA VELOCIDAD MÁXIMA EN VÍAS LIMITAD...</td>\n",
       "      <td>90</td>\n",
       "      <td>160</td>\n",
       "      <td>70</td>\n",
       "    </tr>\n",
       "    <tr>\n",
       "      <th>30364</th>\n",
       "      <td>GRAVE</td>\n",
       "      <td>M 30 FT KM 4,150 CR 4</td>\n",
       "      <td>3</td>\n",
       "      <td>20.23</td>\n",
       "      <td>500.0</td>\n",
       "      <td>6</td>\n",
       "      <td>POLICIA MUNICIPAL</td>\n",
       "      <td>SOBREPASAR LA VELOCIDAD MÁXIMA EN VÍAS LIMITAD...</td>\n",
       "      <td>70</td>\n",
       "      <td>139</td>\n",
       "      <td>69</td>\n",
       "    </tr>\n",
       "    <tr>\n",
       "      <th>61555</th>\n",
       "      <td>GRAVE</td>\n",
       "      <td>M 30 FT PK 4,150 CR 4</td>\n",
       "      <td>2</td>\n",
       "      <td>14.06</td>\n",
       "      <td>500.0</td>\n",
       "      <td>6</td>\n",
       "      <td>POLICIA MUNICIPAL</td>\n",
       "      <td>SOBREPASAR LA VELOCIDAD MÁXIMA EN VÍAS LIMITAD...</td>\n",
       "      <td>70</td>\n",
       "      <td>139</td>\n",
       "      <td>69</td>\n",
       "    </tr>\n",
       "    <tr>\n",
       "      <th>69609</th>\n",
       "      <td>GRAVE</td>\n",
       "      <td>M 30 KM 0,500 CALZADA 1</td>\n",
       "      <td>7</td>\n",
       "      <td>5.26</td>\n",
       "      <td>500.0</td>\n",
       "      <td>6</td>\n",
       "      <td>POLICIA MUNICIPAL</td>\n",
       "      <td>SOBREPASAR LA VELOCIDAD MÁXIMA EN VÍAS LIMITAD...</td>\n",
       "      <td>90</td>\n",
       "      <td>159</td>\n",
       "      <td>69</td>\n",
       "    </tr>\n",
       "    <tr>\n",
       "      <th>59479</th>\n",
       "      <td>GRAVE</td>\n",
       "      <td>M 30 KM 6,700 CALZADA 1 CR 3</td>\n",
       "      <td>10</td>\n",
       "      <td>2.06</td>\n",
       "      <td>500.0</td>\n",
       "      <td>6</td>\n",
       "      <td>POLICIA MUNICIPAL</td>\n",
       "      <td>SOBREPASAR LA VELOCIDAD MÁXIMA EN VÍAS LIMITAD...</td>\n",
       "      <td>90</td>\n",
       "      <td>159</td>\n",
       "      <td>69</td>\n",
       "    </tr>\n",
       "  </tbody>\n",
       "</table>\n",
       "</div>"
      ],
      "text/plain": [
       "      CALIFICACION                                     LUGAR  MES   HORA   \n",
       "71      GRAVE       M 30 FT KM 4,150 CR 1                       3  23.43  \\\n",
       "75936   GRAVE       M 30 XC KM 10,300 CR 3                      9  23.25   \n",
       "68661   GRAVE       M 30 KM 6,700 CR 3 CALZADA 1               11   7.53   \n",
       "75935   GRAVE       M 30 KM 7,800 CALZADA 2                     9   1.11   \n",
       "61556   GRAVE       M 30 KM 27 DECRECIENTE C 2                  2   4.57   \n",
       "59480   GRAVE       M 30 KM 27 CARRIL 2 CALZADA 2              10   2.11   \n",
       "30364   GRAVE       M 30 FT KM 4,150 CR 4                       3  20.23   \n",
       "61555   GRAVE       M 30 FT PK 4,150 CR 4                       2  14.06   \n",
       "69609   GRAVE       M 30 KM 0,500 CALZADA 1                     7   5.26   \n",
       "59479   GRAVE       M 30 KM 6,700 CALZADA 1 CR 3               10   2.06   \n",
       "\n",
       "       IMP_BOL  PUNTOS           DENUNCIANTE   \n",
       "71       500.0       6  POLICIA MUNICIPAL     \\\n",
       "75936    500.0       6  POLICIA MUNICIPAL      \n",
       "68661    500.0       6  POLICIA MUNICIPAL      \n",
       "75935    500.0       6  POLICIA MUNICIPAL      \n",
       "61556    500.0       6  POLICIA MUNICIPAL      \n",
       "59480    500.0       6  POLICIA MUNICIPAL      \n",
       "30364    500.0       6  POLICIA MUNICIPAL      \n",
       "61555    500.0       6  POLICIA MUNICIPAL      \n",
       "69609    500.0       6  POLICIA MUNICIPAL      \n",
       "59479    500.0       6  POLICIA MUNICIPAL      \n",
       "\n",
       "                                               HECHO-BOL  VEL_LIMITE   \n",
       "71     SOBREPASAR LA VELOCIDAD MÁXIMA EN VÍAS LIMITAD...          70  \\\n",
       "75936  SOBREPASAR LA VELOCIDAD MÁXIMA EN VÍAS LIMITAD...          70   \n",
       "68661  SOBREPASAR LA VELOCIDAD MÁXIMA EN VÍAS LIMITAD...          90   \n",
       "75935  SOBREPASAR LA VELOCIDAD MÁXIMA EN VÍAS LIMITAD...          90   \n",
       "61556  SOBREPASAR LA VELOCIDAD MÁXIMA EN VÍAS LIMITAD...          90   \n",
       "59480  SOBREPASAR LA VELOCIDAD MÁXIMA EN VÍAS LIMITAD...          90   \n",
       "30364  SOBREPASAR LA VELOCIDAD MÁXIMA EN VÍAS LIMITAD...          70   \n",
       "61555  SOBREPASAR LA VELOCIDAD MÁXIMA EN VÍAS LIMITAD...          70   \n",
       "69609  SOBREPASAR LA VELOCIDAD MÁXIMA EN VÍAS LIMITAD...          90   \n",
       "59479  SOBREPASAR LA VELOCIDAD MÁXIMA EN VÍAS LIMITAD...          90   \n",
       "\n",
       "       VEL_CIRCULA  DIFFERENCE_KMH  \n",
       "71             140              70  \n",
       "75936          140              70  \n",
       "68661          160              70  \n",
       "75935          160              70  \n",
       "61556          160              70  \n",
       "59480          160              70  \n",
       "30364          139              69  \n",
       "61555          139              69  \n",
       "69609          159              69  \n",
       "59479          159              69  "
      ]
     },
     "execution_count": 18,
     "metadata": {},
     "output_type": "execute_result"
    }
   ],
   "source": [
    "df.sort_values(\"DIFFERENCE_KMH\", ascending=False).head(10)"
   ]
  },
  {
   "cell_type": "markdown",
   "id": "e57d94df",
   "metadata": {},
   "source": [
    "We obtain a dataframe filtered by all the complaints that have led to the withdrawal of points (that is, points other than zero). Group the dataframe filtered by the public agent that issues the complaint and respond which of all the public agents has a higher average point withdrawal?"
   ]
  },
  {
   "cell_type": "markdown",
   "id": "47d92b1f",
   "metadata": {},
   "source": [
    "We have obtained the unique values from the list PUNTOS to see how many unique number of points  had been taken off."
   ]
  },
  {
   "cell_type": "code",
   "execution_count": 20,
   "id": "7b40e8d9",
   "metadata": {},
   "outputs": [
    {
     "data": {
      "text/plain": [
       "array([3, 0, 4, 6, 2], dtype=int64)"
      ]
     },
     "execution_count": 20,
     "metadata": {},
     "output_type": "execute_result"
    }
   ],
   "source": [
    "df.PUNTOS.unique()"
   ]
  },
  {
   "cell_type": "markdown",
   "id": "e8f76e11",
   "metadata": {},
   "source": [
    "We can see that the type of this column is int64, that means that there are not empty cells or NaN values. That's why We can proceed to get our answer without further transformations"
   ]
  },
  {
   "cell_type": "markdown",
   "id": "a9bb792f",
   "metadata": {},
   "source": [
    "We get just the rows with fines that result in the lose of points."
   ]
  },
  {
   "cell_type": "code",
   "execution_count": 22,
   "id": "1d9aeecb",
   "metadata": {
    "scrolled": true
   },
   "outputs": [
    {
     "data": {
      "text/html": [
       "<div>\n",
       "<style scoped>\n",
       "    .dataframe tbody tr th:only-of-type {\n",
       "        vertical-align: middle;\n",
       "    }\n",
       "\n",
       "    .dataframe tbody tr th {\n",
       "        vertical-align: top;\n",
       "    }\n",
       "\n",
       "    .dataframe thead th {\n",
       "        text-align: right;\n",
       "    }\n",
       "</style>\n",
       "<table border=\"1\" class=\"dataframe\">\n",
       "  <thead>\n",
       "    <tr style=\"text-align: right;\">\n",
       "      <th></th>\n",
       "      <th>CALIFICACION</th>\n",
       "      <th>LUGAR</th>\n",
       "      <th>MES</th>\n",
       "      <th>HORA</th>\n",
       "      <th>IMP_BOL</th>\n",
       "      <th>PUNTOS</th>\n",
       "      <th>DENUNCIANTE</th>\n",
       "      <th>HECHO-BOL</th>\n",
       "      <th>VEL_LIMITE</th>\n",
       "      <th>VEL_CIRCULA</th>\n",
       "      <th>DIFFERENCE_KMH</th>\n",
       "    </tr>\n",
       "  </thead>\n",
       "  <tbody>\n",
       "    <tr>\n",
       "      <th>0</th>\n",
       "      <td>GRAVE</td>\n",
       "      <td>ALFONSO XII</td>\n",
       "      <td>1</td>\n",
       "      <td>12.18</td>\n",
       "      <td>200.0</td>\n",
       "      <td>3</td>\n",
       "      <td>POLICIA MUNICIPAL</td>\n",
       "      <td>CONDUCIR UTILIZANDO MANUALMENTE TELEFONÍA MÓVI...</td>\n",
       "      <td>0</td>\n",
       "      <td>0</td>\n",
       "      <td>0</td>\n",
       "    </tr>\n",
       "    <tr>\n",
       "      <th>11</th>\n",
       "      <td>GRAVE</td>\n",
       "      <td>FRANCISCO VILLAESPESA 53</td>\n",
       "      <td>1</td>\n",
       "      <td>12.54</td>\n",
       "      <td>200.0</td>\n",
       "      <td>3</td>\n",
       "      <td>POLICIA MUNICIPAL</td>\n",
       "      <td>CONDUCIR UTILIZANDO MANUALMENTE TELEFONÍA MÓVI...</td>\n",
       "      <td>0</td>\n",
       "      <td>0</td>\n",
       "      <td>0</td>\n",
       "    </tr>\n",
       "    <tr>\n",
       "      <th>17</th>\n",
       "      <td>GRAVE</td>\n",
       "      <td>CALLE 30 CALZADA 1 A 5</td>\n",
       "      <td>1</td>\n",
       "      <td>16.45</td>\n",
       "      <td>200.0</td>\n",
       "      <td>4</td>\n",
       "      <td>POLICIA MUNICIPAL</td>\n",
       "      <td>CIRCULAR SIN RESPETAR LA DISTANCIA MÍNIMA DE S...</td>\n",
       "      <td>0</td>\n",
       "      <td>0</td>\n",
       "      <td>0</td>\n",
       "    </tr>\n",
       "    <tr>\n",
       "      <th>25</th>\n",
       "      <td>GRAVE</td>\n",
       "      <td>ALBERTO AGUILERA</td>\n",
       "      <td>1</td>\n",
       "      <td>23.20</td>\n",
       "      <td>200.0</td>\n",
       "      <td>4</td>\n",
       "      <td>POLICIA MUNICIPAL</td>\n",
       "      <td>REBASAR UN SEMÁFORO EN FASE ROJA.             ...</td>\n",
       "      <td>0</td>\n",
       "      <td>0</td>\n",
       "      <td>0</td>\n",
       "    </tr>\n",
       "    <tr>\n",
       "      <th>87</th>\n",
       "      <td>GRAVE</td>\n",
       "      <td>GT PTA TOLEDO-TOLEDO</td>\n",
       "      <td>1</td>\n",
       "      <td>18.18</td>\n",
       "      <td>200.0</td>\n",
       "      <td>4</td>\n",
       "      <td>AGENTES DE MOVILIDAD</td>\n",
       "      <td>REBASAR UN SEMÁFORO EN FASE ROJA.             ...</td>\n",
       "      <td>0</td>\n",
       "      <td>0</td>\n",
       "      <td>0</td>\n",
       "    </tr>\n",
       "    <tr>\n",
       "      <th>...</th>\n",
       "      <td>...</td>\n",
       "      <td>...</td>\n",
       "      <td>...</td>\n",
       "      <td>...</td>\n",
       "      <td>...</td>\n",
       "      <td>...</td>\n",
       "      <td>...</td>\n",
       "      <td>...</td>\n",
       "      <td>...</td>\n",
       "      <td>...</td>\n",
       "      <td>...</td>\n",
       "    </tr>\n",
       "    <tr>\n",
       "      <th>195775</th>\n",
       "      <td>GRAVE</td>\n",
       "      <td>ORENSE 21</td>\n",
       "      <td>12</td>\n",
       "      <td>19.58</td>\n",
       "      <td>200.0</td>\n",
       "      <td>3</td>\n",
       "      <td>POLICIA MUNICIPAL</td>\n",
       "      <td>EFECTUAR UN CAMBIO DE SENTIDO PROHIBIDO.      ...</td>\n",
       "      <td>0</td>\n",
       "      <td>0</td>\n",
       "      <td>0</td>\n",
       "    </tr>\n",
       "    <tr>\n",
       "      <th>195776</th>\n",
       "      <td>MUY GRAVE</td>\n",
       "      <td>GTA EMILIO CASTELAR SN</td>\n",
       "      <td>12</td>\n",
       "      <td>6.43</td>\n",
       "      <td>1000.0</td>\n",
       "      <td>6</td>\n",
       "      <td>POLICIA MUNICIPAL</td>\n",
       "      <td>CONDUCIR CON UNA TASA DE ALCOHOLEMIA NO PERMIT...</td>\n",
       "      <td>0</td>\n",
       "      <td>0</td>\n",
       "      <td>0</td>\n",
       "    </tr>\n",
       "    <tr>\n",
       "      <th>195778</th>\n",
       "      <td>GRAVE</td>\n",
       "      <td>PZ FERNANDEZ LADREDA</td>\n",
       "      <td>12</td>\n",
       "      <td>19.05</td>\n",
       "      <td>200.0</td>\n",
       "      <td>4</td>\n",
       "      <td>POLICIA MUNICIPAL</td>\n",
       "      <td>REBASAR UN SEMÁFORO EN FASE ROJA.             ...</td>\n",
       "      <td>0</td>\n",
       "      <td>0</td>\n",
       "      <td>0</td>\n",
       "    </tr>\n",
       "    <tr>\n",
       "      <th>195779</th>\n",
       "      <td>GRAVE</td>\n",
       "      <td>ALCALA 406</td>\n",
       "      <td>12</td>\n",
       "      <td>18.15</td>\n",
       "      <td>200.0</td>\n",
       "      <td>3</td>\n",
       "      <td>POLICIA MUNICIPAL</td>\n",
       "      <td>CONDUCIR UTILIZANDO MANUALMENTE TELEFONÍA MÓVI...</td>\n",
       "      <td>0</td>\n",
       "      <td>0</td>\n",
       "      <td>0</td>\n",
       "    </tr>\n",
       "    <tr>\n",
       "      <th>195780</th>\n",
       "      <td>MUY GRAVE</td>\n",
       "      <td>GTA CADIZ-ANTONIO LOPEZ</td>\n",
       "      <td>12</td>\n",
       "      <td>1.34</td>\n",
       "      <td>1000.0</td>\n",
       "      <td>6</td>\n",
       "      <td>POLICIA MUNICIPAL</td>\n",
       "      <td>CONDUCIR CON UNA TASA DE ALCOHOLEMIA NO PERMIT...</td>\n",
       "      <td>0</td>\n",
       "      <td>0</td>\n",
       "      <td>0</td>\n",
       "    </tr>\n",
       "  </tbody>\n",
       "</table>\n",
       "<p>60826 rows × 11 columns</p>\n",
       "</div>"
      ],
      "text/plain": [
       "       CALIFICACION                                     LUGAR  MES   HORA   \n",
       "0        GRAVE       ALFONSO XII                                 1  12.18  \\\n",
       "11       GRAVE       FRANCISCO VILLAESPESA 53                    1  12.54   \n",
       "17       GRAVE       CALLE 30 CALZADA 1 A 5                      1  16.45   \n",
       "25       GRAVE       ALBERTO AGUILERA                            1  23.20   \n",
       "87       GRAVE       GT PTA TOLEDO-TOLEDO                        1  18.18   \n",
       "...             ...                                       ...  ...    ...   \n",
       "195775   GRAVE       ORENSE 21                                  12  19.58   \n",
       "195776   MUY GRAVE   GTA EMILIO CASTELAR SN                     12   6.43   \n",
       "195778   GRAVE       PZ FERNANDEZ LADREDA                       12  19.05   \n",
       "195779   GRAVE       ALCALA 406                                 12  18.15   \n",
       "195780   MUY GRAVE   GTA CADIZ-ANTONIO LOPEZ                    12   1.34   \n",
       "\n",
       "        IMP_BOL  PUNTOS           DENUNCIANTE   \n",
       "0         200.0       3  POLICIA MUNICIPAL     \\\n",
       "11        200.0       3  POLICIA MUNICIPAL      \n",
       "17        200.0       4  POLICIA MUNICIPAL      \n",
       "25        200.0       4  POLICIA MUNICIPAL      \n",
       "87        200.0       4  AGENTES DE MOVILIDAD   \n",
       "...         ...     ...                   ...   \n",
       "195775    200.0       3  POLICIA MUNICIPAL      \n",
       "195776   1000.0       6  POLICIA MUNICIPAL      \n",
       "195778    200.0       4  POLICIA MUNICIPAL      \n",
       "195779    200.0       3  POLICIA MUNICIPAL      \n",
       "195780   1000.0       6  POLICIA MUNICIPAL      \n",
       "\n",
       "                                                HECHO-BOL  VEL_LIMITE   \n",
       "0       CONDUCIR UTILIZANDO MANUALMENTE TELEFONÍA MÓVI...           0  \\\n",
       "11      CONDUCIR UTILIZANDO MANUALMENTE TELEFONÍA MÓVI...           0   \n",
       "17      CIRCULAR SIN RESPETAR LA DISTANCIA MÍNIMA DE S...           0   \n",
       "25      REBASAR UN SEMÁFORO EN FASE ROJA.             ...           0   \n",
       "87      REBASAR UN SEMÁFORO EN FASE ROJA.             ...           0   \n",
       "...                                                   ...         ...   \n",
       "195775  EFECTUAR UN CAMBIO DE SENTIDO PROHIBIDO.      ...           0   \n",
       "195776  CONDUCIR CON UNA TASA DE ALCOHOLEMIA NO PERMIT...           0   \n",
       "195778  REBASAR UN SEMÁFORO EN FASE ROJA.             ...           0   \n",
       "195779  CONDUCIR UTILIZANDO MANUALMENTE TELEFONÍA MÓVI...           0   \n",
       "195780  CONDUCIR CON UNA TASA DE ALCOHOLEMIA NO PERMIT...           0   \n",
       "\n",
       "        VEL_CIRCULA  DIFFERENCE_KMH  \n",
       "0                 0               0  \n",
       "11                0               0  \n",
       "17                0               0  \n",
       "25                0               0  \n",
       "87                0               0  \n",
       "...             ...             ...  \n",
       "195775            0               0  \n",
       "195776            0               0  \n",
       "195778            0               0  \n",
       "195779            0               0  \n",
       "195780            0               0  \n",
       "\n",
       "[60826 rows x 11 columns]"
      ]
     },
     "execution_count": 22,
     "metadata": {},
     "output_type": "execute_result"
    }
   ],
   "source": [
    "#We get just rows were points value is different to 0\n",
    "df_points= df[df.PUNTOS!=0]\n",
    "df_points"
   ]
  },
  {
   "cell_type": "markdown",
   "id": "0e72c414",
   "metadata": {},
   "source": [
    "We check that this new dataframe only contains the infractions were points were taken."
   ]
  },
  {
   "cell_type": "code",
   "execution_count": 24,
   "id": "b48784e0",
   "metadata": {},
   "outputs": [
    {
     "data": {
      "text/plain": [
       "{2, 3, 4, 6}"
      ]
     },
     "execution_count": 24,
     "metadata": {},
     "output_type": "execute_result"
    }
   ],
   "source": [
    "set(df_points.PUNTOS)"
   ]
  },
  {
   "cell_type": "markdown",
   "id": "f10078fe",
   "metadata": {},
   "source": [
    "We group by the public agents that make the complaint and sum the total of points that each one took.\n",
    "This way We can see who is the public agency that took more points."
   ]
  },
  {
   "cell_type": "code",
   "execution_count": 25,
   "id": "15250390",
   "metadata": {},
   "outputs": [
    {
     "data": {
      "text/html": [
       "<div>\n",
       "<style scoped>\n",
       "    .dataframe tbody tr th:only-of-type {\n",
       "        vertical-align: middle;\n",
       "    }\n",
       "\n",
       "    .dataframe tbody tr th {\n",
       "        vertical-align: top;\n",
       "    }\n",
       "\n",
       "    .dataframe thead th {\n",
       "        text-align: right;\n",
       "    }\n",
       "</style>\n",
       "<table border=\"1\" class=\"dataframe\">\n",
       "  <thead>\n",
       "    <tr style=\"text-align: right;\">\n",
       "      <th></th>\n",
       "      <th>CALIFICACION</th>\n",
       "      <th>LUGAR</th>\n",
       "      <th>MES</th>\n",
       "      <th>HORA</th>\n",
       "      <th>IMP_BOL</th>\n",
       "      <th>PUNTOS</th>\n",
       "      <th>HECHO-BOL</th>\n",
       "      <th>VEL_LIMITE</th>\n",
       "      <th>VEL_CIRCULA</th>\n",
       "      <th>DIFFERENCE_KMH</th>\n",
       "    </tr>\n",
       "    <tr>\n",
       "      <th>DENUNCIANTE</th>\n",
       "      <th></th>\n",
       "      <th></th>\n",
       "      <th></th>\n",
       "      <th></th>\n",
       "      <th></th>\n",
       "      <th></th>\n",
       "      <th></th>\n",
       "      <th></th>\n",
       "      <th></th>\n",
       "      <th></th>\n",
       "    </tr>\n",
       "  </thead>\n",
       "  <tbody>\n",
       "    <tr>\n",
       "      <th>AGENTES DE MOVILIDAD</th>\n",
       "      <td>GRAVE     GRAVE     GRAVE     GRAVE     GRAVE ...</td>\n",
       "      <td>GT PTA TOLEDO-TOLEDO                    GRAN V...</td>\n",
       "      <td>125823</td>\n",
       "      <td>245714.17</td>\n",
       "      <td>3621900.0</td>\n",
       "      <td>68437</td>\n",
       "      <td>REBASAR UN SEMÁFORO EN FASE ROJA.             ...</td>\n",
       "      <td>12750</td>\n",
       "      <td>19382</td>\n",
       "      <td>6632</td>\n",
       "    </tr>\n",
       "    <tr>\n",
       "      <th>POLICIA MUNICIPAL</th>\n",
       "      <td>GRAVE     GRAVE     GRAVE     GRAVE     GRAVE ...</td>\n",
       "      <td>ALFONSO XII                             FRANCI...</td>\n",
       "      <td>273693</td>\n",
       "      <td>544027.00</td>\n",
       "      <td>15306100.0</td>\n",
       "      <td>134163</td>\n",
       "      <td>CONDUCIR UTILIZANDO MANUALMENTE TELEFONÍA MÓVI...</td>\n",
       "      <td>1525090</td>\n",
       "      <td>2347810</td>\n",
       "      <td>822720</td>\n",
       "    </tr>\n",
       "  </tbody>\n",
       "</table>\n",
       "</div>"
      ],
      "text/plain": [
       "                                                           CALIFICACION   \n",
       "DENUNCIANTE                                                               \n",
       "AGENTES DE MOVILIDAD  GRAVE     GRAVE     GRAVE     GRAVE     GRAVE ...  \\\n",
       "POLICIA MUNICIPAL     GRAVE     GRAVE     GRAVE     GRAVE     GRAVE ...   \n",
       "\n",
       "                                                                  LUGAR   \n",
       "DENUNCIANTE                                                               \n",
       "AGENTES DE MOVILIDAD  GT PTA TOLEDO-TOLEDO                    GRAN V...  \\\n",
       "POLICIA MUNICIPAL     ALFONSO XII                             FRANCI...   \n",
       "\n",
       "                         MES       HORA     IMP_BOL  PUNTOS   \n",
       "DENUNCIANTE                                                   \n",
       "AGENTES DE MOVILIDAD  125823  245714.17   3621900.0   68437  \\\n",
       "POLICIA MUNICIPAL     273693  544027.00  15306100.0  134163   \n",
       "\n",
       "                                                              HECHO-BOL   \n",
       "DENUNCIANTE                                                               \n",
       "AGENTES DE MOVILIDAD  REBASAR UN SEMÁFORO EN FASE ROJA.             ...  \\\n",
       "POLICIA MUNICIPAL     CONDUCIR UTILIZANDO MANUALMENTE TELEFONÍA MÓVI...   \n",
       "\n",
       "                      VEL_LIMITE  VEL_CIRCULA  DIFFERENCE_KMH  \n",
       "DENUNCIANTE                                                    \n",
       "AGENTES DE MOVILIDAD       12750        19382            6632  \n",
       "POLICIA MUNICIPAL        1525090      2347810          822720  "
      ]
     },
     "execution_count": 25,
     "metadata": {},
     "output_type": "execute_result"
    }
   ],
   "source": [
    "#We group by the DENUNCIANTE column and sum all points for each public agency\n",
    "df_points.groupby(\"DENUNCIANTE\").sum()"
   ]
  },
  {
   "cell_type": "markdown",
   "id": "a3b93369",
   "metadata": {},
   "source": [
    "We get just the rows with fines that result in the lose of points."
   ]
  },
  {
   "cell_type": "code",
   "execution_count": null,
   "id": "fcdeb843",
   "metadata": {},
   "outputs": [],
   "source": [
    "#We get just rows were points value is different to 0\n",
    "df_points= df[df.PUNTOS!=0]\n",
    "df_points"
   ]
  },
  {
   "cell_type": "markdown",
   "id": "34d194f2",
   "metadata": {},
   "source": [
    "We group by the public agents that make the complaint and sum the total of points that each one took.\n",
    "This way We can see who is the public agency that took more points."
   ]
  },
  {
   "cell_type": "code",
   "execution_count": null,
   "id": "b8d89945",
   "metadata": {},
   "outputs": [],
   "source": [
    "#We group by the DENUNCIANTE column and sum all points for each public agency\n",
    "df_points.groupby(\"DENUNCIANTE\").sum()"
   ]
  },
  {
   "cell_type": "markdown",
   "id": "e716a99b",
   "metadata": {},
   "source": [
    "We eliminate the decimal part from the hour column, then, We show graphically in which hours more infractions were caught."
   ]
  },
  {
   "cell_type": "markdown",
   "id": "d136f0aa",
   "metadata": {},
   "source": [
    "The values of the HORA column have been transformed to integer so that it loses the decimal part and has been stored in the hours variable to be able to work with this data in a more manageable way.\n",
    "\n",
    "The `value_counts()` function has been applied to see the result of the sum of the number of times it appears each hour. \n",
    "\n",
    "To create the barplot, for the x-axis, we have taken the hours and in the y-axis we have taken the fines.\n"
   ]
  },
  {
   "cell_type": "code",
   "execution_count": 29,
   "id": "bd712f6a",
   "metadata": {
    "scrolled": true
   },
   "outputs": [
    {
     "data": {
      "text/plain": [
       "HORA\n",
       "10    173426\n",
       "13    172800\n",
       "11    166508\n",
       "12    161114\n",
       "9     153981\n",
       "17    141545\n",
       "14    138095\n",
       "18    127773\n",
       "16    124344\n",
       "19    123612\n",
       "20    101182\n",
       "15     99054\n",
       "8      59261\n",
       "21     54539\n",
       "22     38074\n",
       "23     31988\n",
       "7      31842\n",
       "0      29284\n",
       "1      17987\n",
       "6      16999\n",
       "2      10675\n",
       "5       7081\n",
       "3       6549\n",
       "4       5591\n",
       "Name: count, dtype: int64"
      ]
     },
     "execution_count": 29,
     "metadata": {},
     "output_type": "execute_result"
    }
   ],
   "source": [
    "df.HORA = df.HORA.astype(int)\n",
    "#We obtain the axis values from here\n",
    "#numbers of infractions were caught at each hour\n",
    "infractions_hour = df.HORA.value_counts()\n",
    "infractions_hour"
   ]
  },
  {
   "cell_type": "code",
   "execution_count": 30,
   "id": "cd23b76d",
   "metadata": {},
   "outputs": [
    {
     "data": {
      "image/png": "[encoded data removed]",
      "text/plain": [
       "<Figure size 640x480 with 1 Axes>"
      ]
     },
     "metadata": {},
     "output_type": "display_data"
    }
   ],
   "source": [
    "plt.bar(infractions_hour.keys().tolist(), infractions_hour.tolist())\n",
    "\n",
    "plt.xlabel(\"HOURS\")\n",
    "plt.ylabel(\"FINES\")\n",
    "\n",
    "plt.show()"
   ]
  },
  {
   "cell_type": "markdown",
   "id": "45f09a68",
   "metadata": {},
   "source": [
    "We can observe that more fines were taken near the noon."
   ]
  },
  {
   "cell_type": "markdown",
   "id": "43e07cbe",
   "metadata": {},
   "source": [
    " Knowing that the confinement in Spain began in March of that year, is the effect of the pandemic noticeable?"
   ]
  },
  {
   "cell_type": "markdown",
   "id": "2b2edad2",
   "metadata": {},
   "source": [
    "To see this We create a graphic that shows the fines made during 2020 by month. "
   ]
  },
  {
   "cell_type": "markdown",
   "id": "3321662e",
   "metadata": {},
   "source": [
    "We obtain the total count of fines taken in each month. To do it We used the function count.plot() has been applied, which gives the count of the number of repeated values in the column MONTH. "
   ]
  },
  {
   "cell_type": "code",
   "execution_count": 31,
   "id": "785dbec4",
   "metadata": {},
   "outputs": [
    {
     "data": {
      "image/png": "[encoded data removed]",
      "text/plain": [
       "<Figure size 640x480 with 1 Axes>"
      ]
     },
     "metadata": {},
     "output_type": "display_data"
    }
   ],
   "source": [
    "#Plots the count of rows for each MONTH in the dataframe in green degraded\n",
    "sns.countplot(x= \"MES\", data= df, palette= \"Greens_d\")\n",
    "\n",
    "plt.show()"
   ]
  },
  {
   "cell_type": "markdown",
   "id": "33a1c6a3",
   "metadata": {},
   "source": [
    "We can appreciate how the start of the COVID pandemic affeted the infractions made."
   ]
  },
  {
   "cell_type": "markdown",
   "id": "60d02961",
   "metadata": {},
   "source": [
    "How many infractions each of the public agents has denounced by classification of the infraction?"
   ]
  },
  {
   "cell_type": "markdown",
   "id": "c931d007",
   "metadata": {},
   "source": [
    "We use again the `countplot()` function to plot to show how many fines of each rating there is.\n",
    "But this time We separate by public agency each in rating count."
   ]
  },
  {
   "cell_type": "code",
   "execution_count": 34,
   "id": "cfbb4b47",
   "metadata": {
    "scrolled": true
   },
   "outputs": [
    {
     "data": {
      "image/png": "[encoded data removed]",
      "text/plain": [
       "<Figure size 1000x300 with 1 Axes>"
      ]
     },
     "metadata": {},
     "output_type": "display_data"
    }
   ],
   "source": [
    "#We change the size of the plot so it can be full viewed \n",
    "f = plt.figure()\n",
    "f.set_figwidth(10)\n",
    "f.set_figheight(3)\n",
    "\n",
    "\n",
    "#plots the count of fines of each rating for each public agency\n",
    "#with a legend that indicates which public agency has make the complaint\n",
    "sns.countplot(data = df, x = \"CALIFICACION\", hue = df.DENUNCIANTE, orient=\"h\")\n",
    "\n",
    "#We choose to put the legend at a position that let the result be viewed\n",
    "plt.legend(loc='upper right')\n",
    "plt.show()"
   ]
  },
  {
   "cell_type": "markdown",
   "id": "6970193a",
   "metadata": {},
   "source": [
    "We observe that POLICIA MUNICIPAL is the one that makes more complaints serious complaints.\n",
    "SER and AGENTES DE MOVILIDAD are the agencies that make more minor complaints."
   ]
  }
 ],
 "metadata": {
  "kernelspec": {
   "display_name": "Python 3 (ipykernel)",
   "language": "python",
   "name": "python3"
  },
  "language_info": {
   "codemirror_mode": {
    "name": "ipython",
    "version": 3
   },
   "file_extension": ".py",
   "mimetype": "text/x-python",
   "name": "python",
   "nbconvert_exporter": "python",
   "pygments_lexer": "ipython3",
   "version": "3.10.10"
  },
  "toc": {
   "base_numbering": "1",
   "nav_menu": {},
   "number_sections": true,
   "sideBar": true,
   "skip_h1_title": true,
   "title_cell": "Table of Contents",
   "title_sidebar": "Contents",
   "toc_cell": false,
   "toc_position": {
    "height": "calc(100% - 180px)",
    "left": "10px",
    "top": "150px",
    "width": "245.062px"
   },
   "toc_section_display": true,
   "toc_window_display": false
  },
  "varInspector": {
   "cols": {
    "lenName": 16,
    "lenType": 16,
    "lenVar": 40
   },
   "kernels_config": {
    "python": {
     "delete_cmd_postfix": "",
     "delete_cmd_prefix": "del ",
     "library": "var_list.py",
     "varRefreshCmd": "print(var_dic_list())"
    },
    "r": {
     "delete_cmd_postfix": ") ",
     "delete_cmd_prefix": "rm(",
     "library": "var_list.r",
     "varRefreshCmd": "cat(var_dic_list()) "
    }
   },
   "types_to_exclude": [
    "module",
    "function",
    "builtin_function_or_method",
    "instance",
    "_Feature"
   ],
   "window_display": false
  }
 },
 "nbformat": 4,
 "nbformat_minor": 5
}
