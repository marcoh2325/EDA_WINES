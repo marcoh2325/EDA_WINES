{
 "cells": [
  {
   "cell_type": "markdown",
   "id": "e4ed9dc3",
   "metadata": {},
   "source": [
    "SQUAT FORECASTING"
   ]
  },
  {
   "cell_type": "markdown",
   "id": "01c80e2e",
   "metadata": {},
   "source": [
    "Members: Sergio Salvador, Marco Hernani, Helen Navarro, Berta Pfaff"
   ]
  },
  {
   "cell_type": "markdown",
   "id": "40275bb1",
   "metadata": {},
   "source": [
    "# Exercise - MADRID OPEN DATA"
   ]
  },
  {
   "cell_type": "markdown",
   "id": "df2f4656",
   "metadata": {},
   "source": [
    "Analysis and data visualization exercise. We will work with data on infractions committed by drivers in the city of Madrid."
   ]
  },
  {
   "cell_type": "markdown",
   "id": "aac821bb",
   "metadata": {},
   "source": [
    "## Join the twelve dataframes from January to December into a single dataframe. Shows the total shape of the resulting dataframe.\n"
   ]
  },
  {
   "cell_type": "markdown",
   "id": "b609ef9a",
   "metadata": {},
   "source": [
    "We read all datasets and join them into a single dataframe"
   ]
  },
  {
   "cell_type": "markdown",
   "id": "b3c6a49c",
   "metadata": {},
   "source": [
    "We observe that all datasets had the same columns information, in the same order but some columns names were sligtly different from one dataset to other.\n",
    "That's why we force the names of the columns. So it's the same for all dataframes, before adding the data to the dataframe with all the information"
   ]
  },
  {
   "cell_type": "code",
   "execution_count": 1,
   "id": "8a2e5fc2",
   "metadata": {},
   "outputs": [],
   "source": [
    "import pandas as pd\n",
    "import matplotlib.pyplot as plt\n",
    "import numpy as np\n",
    "import seaborn as sns\n",
    "import glob"
   ]
  },
  {
   "cell_type": "markdown",
   "id": "3397fc9c",
   "metadata": {},
   "source": [
    "We use glob module to search for a specific file pattern. `[glob.glob(path, '2020*.csv')]` returns a list with all csv files that satisfy that pattern."
   ]
  },
  {
   "cell_type": "code",
   "execution_count": 2,
   "id": "c5ed5429",
   "metadata": {
    "scrolled": true
   },
   "outputs": [
    {
     "name": "stdout",
     "output_type": "stream",
     "text": [
      "File names: ['Files\\\\202001_detalle.csv', 'Files\\\\202002_detalle.csv', 'Files\\\\202003_detalle.csv', 'Files\\\\202004_detalle.csv', 'Files\\\\202005_detalle.csv', 'Files\\\\202006_detalle.csv', 'Files\\\\202007_detalle.csv', 'Files\\\\202008_detalle.csv', 'Files\\\\202009_detalle.csv', 'Files\\\\202010_detalle.csv', 'Files\\\\202011_detalle.csv', 'Files\\\\202012_detalle.csv']\n"
     ]
    },
    {
     "name": "stderr",
     "output_type": "stream",
     "text": [
      "C:\\Users\\marco\\AppData\\Local\\Temp\\ipykernel_69048\\2309852093.py:7: DtypeWarning: Columns (10,11) have mixed types. Specify dtype option on import or set low_memory=False.\n",
      "  dfaux=pd.read_csv(file,delimiter= \";\" , encoding = \"latin_1\" )\n",
      "C:\\Users\\marco\\AppData\\Local\\Temp\\ipykernel_69048\\2309852093.py:16: FutureWarning: The frame.append method is deprecated and will be removed from pandas in a future version. Use pandas.concat instead.\n",
      "  df = df.append(csv_file, ignore_index=True)\n"
     ]
    }
   ],
   "source": [
    "file_list = glob.glob(\"Files/2020*.csv\")\n",
    "print('File names:', file_list)\n",
    " \n",
    "csv_list = []\n",
    "\n",
    "for file in file_list:\n",
    "    dfaux=pd.read_csv(file,delimiter= \";\" , encoding = \"latin_1\" )\n",
    "    dfaux=dfaux.set_axis(['CALIFICACION','LUGAR','MES','ANIO','HORA','IMP_BOL','DESCUENTO',\n",
    "                            'PUNTOS','DENUNCIANTE','HECHO-BOL','VEL_LIMITE','VEL_CIRCULA',\n",
    "                            'COORDENADA_X', 'COORDENADA_Y'], axis=1)\n",
    "    csv_list.append(dfaux)\n",
    "    \n",
    "df = pd.DataFrame()\n",
    " \n",
    "for csv_file in csv_list:\n",
    "    df = df.append(csv_file, ignore_index=True)"
   ]
  },
  {
   "cell_type": "code",
   "execution_count": 3,
   "id": "c9ba8601",
   "metadata": {},
   "outputs": [
    {
     "data": {
      "text/plain": [
       "Index(['CALIFICACION', 'LUGAR', 'MES', 'ANIO', 'HORA', 'IMP_BOL', 'DESCUENTO',\n",
       "       'PUNTOS', 'DENUNCIANTE', 'HECHO-BOL', 'VEL_LIMITE', 'VEL_CIRCULA',\n",
       "       'COORDENADA_X', 'COORDENADA_Y'],\n",
       "      dtype='object')"
      ]
     },
     "execution_count": 3,
     "metadata": {},
     "output_type": "execute_result"
    }
   ],
   "source": [
    "df.columns"
   ]
  },
  {
   "cell_type": "code",
   "execution_count": 4,
   "id": "41b9ca9a",
   "metadata": {
    "scrolled": true
   },
   "outputs": [
    {
     "data": {
      "text/html": [
       "<div>\n",
       "<style scoped>\n",
       "    .dataframe tbody tr th:only-of-type {\n",
       "        vertical-align: middle;\n",
       "    }\n",
       "\n",
       "    .dataframe tbody tr th {\n",
       "        vertical-align: top;\n",
       "    }\n",
       "\n",
       "    .dataframe thead th {\n",
       "        text-align: right;\n",
       "    }\n",
       "</style>\n",
       "<table border=\"1\" class=\"dataframe\">\n",
       "  <thead>\n",
       "    <tr style=\"text-align: right;\">\n",
       "      <th></th>\n",
       "      <th>CALIFICACION</th>\n",
       "      <th>LUGAR</th>\n",
       "      <th>MES</th>\n",
       "      <th>ANIO</th>\n",
       "      <th>HORA</th>\n",
       "      <th>IMP_BOL</th>\n",
       "      <th>DESCUENTO</th>\n",
       "      <th>PUNTOS</th>\n",
       "      <th>DENUNCIANTE</th>\n",
       "      <th>HECHO-BOL</th>\n",
       "      <th>VEL_LIMITE</th>\n",
       "      <th>VEL_CIRCULA</th>\n",
       "      <th>COORDENADA_X</th>\n",
       "      <th>COORDENADA_Y</th>\n",
       "    </tr>\n",
       "  </thead>\n",
       "  <tbody>\n",
       "    <tr>\n",
       "      <th>0</th>\n",
       "      <td>GRAVE</td>\n",
       "      <td>ALFONSO XII</td>\n",
       "      <td>1</td>\n",
       "      <td>2020</td>\n",
       "      <td>12.18</td>\n",
       "      <td>200.0</td>\n",
       "      <td>SI</td>\n",
       "      <td>3</td>\n",
       "      <td>POLICIA MUNICIPAL</td>\n",
       "      <td>CONDUCIR UTILIZANDO MANUALMENTE TELEFONÍA MÓVI...</td>\n",
       "      <td></td>\n",
       "      <td></td>\n",
       "      <td></td>\n",
       "      <td></td>\n",
       "    </tr>\n",
       "    <tr>\n",
       "      <th>1</th>\n",
       "      <td>GRAVE</td>\n",
       "      <td>AV BADAJOZ 5</td>\n",
       "      <td>1</td>\n",
       "      <td>2020</td>\n",
       "      <td>9.46</td>\n",
       "      <td>200.0</td>\n",
       "      <td>SI</td>\n",
       "      <td>0</td>\n",
       "      <td>POLICIA MUNICIPAL</td>\n",
       "      <td>ESTACIONAR EN DOBLE FILA.                     ...</td>\n",
       "      <td></td>\n",
       "      <td></td>\n",
       "      <td></td>\n",
       "      <td></td>\n",
       "    </tr>\n",
       "    <tr>\n",
       "      <th>2</th>\n",
       "      <td>LEVE</td>\n",
       "      <td>ARISTOTELES 7 POSTERIOR</td>\n",
       "      <td>1</td>\n",
       "      <td>2020</td>\n",
       "      <td>13.55</td>\n",
       "      <td>90.0</td>\n",
       "      <td>SI</td>\n",
       "      <td>0</td>\n",
       "      <td>POLICIA MUNICIPAL</td>\n",
       "      <td>ESTACIONAR EN LUGAR PROHIBIDO.                ...</td>\n",
       "      <td></td>\n",
       "      <td></td>\n",
       "      <td></td>\n",
       "      <td></td>\n",
       "    </tr>\n",
       "    <tr>\n",
       "      <th>3</th>\n",
       "      <td>LEVE</td>\n",
       "      <td>ARISTOTELES 7 POSTERIOR</td>\n",
       "      <td>1</td>\n",
       "      <td>2020</td>\n",
       "      <td>14.00</td>\n",
       "      <td>90.0</td>\n",
       "      <td>SI</td>\n",
       "      <td>0</td>\n",
       "      <td>POLICIA MUNICIPAL</td>\n",
       "      <td>ESTACIONAR EN LUGAR PROHIBIDO.                ...</td>\n",
       "      <td></td>\n",
       "      <td></td>\n",
       "      <td></td>\n",
       "      <td></td>\n",
       "    </tr>\n",
       "    <tr>\n",
       "      <th>4</th>\n",
       "      <td>LEVE</td>\n",
       "      <td>VIRGEN DE LLUC 70</td>\n",
       "      <td>1</td>\n",
       "      <td>2020</td>\n",
       "      <td>12.12</td>\n",
       "      <td>90.0</td>\n",
       "      <td>SI</td>\n",
       "      <td>0</td>\n",
       "      <td>POLICIA MUNICIPAL</td>\n",
       "      <td>ESTACIONAR SOBRE LA ACERA.                    ...</td>\n",
       "      <td></td>\n",
       "      <td></td>\n",
       "      <td></td>\n",
       "      <td></td>\n",
       "    </tr>\n",
       "    <tr>\n",
       "      <th>...</th>\n",
       "      <td>...</td>\n",
       "      <td>...</td>\n",
       "      <td>...</td>\n",
       "      <td>...</td>\n",
       "      <td>...</td>\n",
       "      <td>...</td>\n",
       "      <td>...</td>\n",
       "      <td>...</td>\n",
       "      <td>...</td>\n",
       "      <td>...</td>\n",
       "      <td>...</td>\n",
       "      <td>...</td>\n",
       "      <td>...</td>\n",
       "      <td>...</td>\n",
       "    </tr>\n",
       "    <tr>\n",
       "      <th>1993299</th>\n",
       "      <td>LEVE</td>\n",
       "      <td>CL PADRE DAMIAN 19</td>\n",
       "      <td>12</td>\n",
       "      <td>2020</td>\n",
       "      <td>14.14</td>\n",
       "      <td>90.0</td>\n",
       "      <td>SI</td>\n",
       "      <td>0</td>\n",
       "      <td>SER</td>\n",
       "      <td>ESTACIONAR, SIN LA CORRESPONDIENTE AUTORIZACIÓ...</td>\n",
       "      <td></td>\n",
       "      <td></td>\n",
       "      <td></td>\n",
       "      <td></td>\n",
       "    </tr>\n",
       "    <tr>\n",
       "      <th>1993300</th>\n",
       "      <td>LEVE</td>\n",
       "      <td>CL JUAN RAMON JIMENEZ 2</td>\n",
       "      <td>12</td>\n",
       "      <td>2020</td>\n",
       "      <td>14.23</td>\n",
       "      <td>90.0</td>\n",
       "      <td>SI</td>\n",
       "      <td>0</td>\n",
       "      <td>SER</td>\n",
       "      <td>ESTACIONAR EN LUGAR PROHIBIDO. VEHÍCULO DE CAT...</td>\n",
       "      <td></td>\n",
       "      <td></td>\n",
       "      <td></td>\n",
       "      <td></td>\n",
       "    </tr>\n",
       "    <tr>\n",
       "      <th>1993301</th>\n",
       "      <td>LEVE</td>\n",
       "      <td>CL JUAN RAMON JIMENEZ 15</td>\n",
       "      <td>12</td>\n",
       "      <td>2020</td>\n",
       "      <td>14.30</td>\n",
       "      <td>90.0</td>\n",
       "      <td>SI</td>\n",
       "      <td>0</td>\n",
       "      <td>SER</td>\n",
       "      <td>ESTACIONAR, SIN LA CORRESPONDIENTE AUTORIZACIÓ...</td>\n",
       "      <td></td>\n",
       "      <td></td>\n",
       "      <td></td>\n",
       "      <td></td>\n",
       "    </tr>\n",
       "    <tr>\n",
       "      <th>1993302</th>\n",
       "      <td>LEVE</td>\n",
       "      <td>CL VICTOR DE LA SERNA 1</td>\n",
       "      <td>12</td>\n",
       "      <td>2020</td>\n",
       "      <td>9.51</td>\n",
       "      <td>90.0</td>\n",
       "      <td>SI</td>\n",
       "      <td>0</td>\n",
       "      <td>SER</td>\n",
       "      <td>ESTACIONAR, SIN LA CORRESPONDIENTE AUTORIZACIÓ...</td>\n",
       "      <td></td>\n",
       "      <td></td>\n",
       "      <td></td>\n",
       "      <td></td>\n",
       "    </tr>\n",
       "    <tr>\n",
       "      <th>1993303</th>\n",
       "      <td>LEVE</td>\n",
       "      <td>CL VICTOR DE LA SERNA 5</td>\n",
       "      <td>12</td>\n",
       "      <td>2020</td>\n",
       "      <td>10.55</td>\n",
       "      <td>60.0</td>\n",
       "      <td>SI</td>\n",
       "      <td>0</td>\n",
       "      <td>SER</td>\n",
       "      <td>ESTACIONAR CON AUTORIZACIÓN NO VÁLIDA.        ...</td>\n",
       "      <td></td>\n",
       "      <td></td>\n",
       "      <td></td>\n",
       "      <td></td>\n",
       "    </tr>\n",
       "  </tbody>\n",
       "</table>\n",
       "<p>1993304 rows × 14 columns</p>\n",
       "</div>"
      ],
      "text/plain": [
       "        CALIFICACION                                     LUGAR  MES  ANIO  \\\n",
       "0         GRAVE       ALFONSO XII                                 1  2020   \n",
       "1         GRAVE       AV BADAJOZ 5                                1  2020   \n",
       "2         LEVE        ARISTOTELES 7 POSTERIOR                     1  2020   \n",
       "3         LEVE        ARISTOTELES 7 POSTERIOR                     1  2020   \n",
       "4         LEVE        VIRGEN DE LLUC 70                           1  2020   \n",
       "...              ...                                       ...  ...   ...   \n",
       "1993299   LEVE        CL PADRE DAMIAN 19                         12  2020   \n",
       "1993300   LEVE        CL JUAN RAMON JIMENEZ 2                    12  2020   \n",
       "1993301   LEVE        CL JUAN RAMON JIMENEZ 15                   12  2020   \n",
       "1993302   LEVE        CL VICTOR DE LA SERNA 1                    12  2020   \n",
       "1993303   LEVE        CL VICTOR DE LA SERNA 5                    12  2020   \n",
       "\n",
       "          HORA  IMP_BOL DESCUENTO  PUNTOS           DENUNCIANTE  \\\n",
       "0        12.18    200.0        SI       3  POLICIA MUNICIPAL      \n",
       "1         9.46    200.0        SI       0  POLICIA MUNICIPAL      \n",
       "2        13.55     90.0        SI       0  POLICIA MUNICIPAL      \n",
       "3        14.00     90.0        SI       0  POLICIA MUNICIPAL      \n",
       "4        12.12     90.0        SI       0  POLICIA MUNICIPAL      \n",
       "...        ...      ...       ...     ...                   ...   \n",
       "1993299  14.14     90.0        SI       0  SER                    \n",
       "1993300  14.23     90.0        SI       0  SER                    \n",
       "1993301  14.30     90.0        SI       0  SER                    \n",
       "1993302   9.51     90.0        SI       0  SER                    \n",
       "1993303  10.55     60.0        SI       0  SER                    \n",
       "\n",
       "                                                 HECHO-BOL VEL_LIMITE  \\\n",
       "0        CONDUCIR UTILIZANDO MANUALMENTE TELEFONÍA MÓVI...              \n",
       "1        ESTACIONAR EN DOBLE FILA.                     ...              \n",
       "2        ESTACIONAR EN LUGAR PROHIBIDO.                ...              \n",
       "3        ESTACIONAR EN LUGAR PROHIBIDO.                ...              \n",
       "4        ESTACIONAR SOBRE LA ACERA.                    ...              \n",
       "...                                                    ...        ...   \n",
       "1993299  ESTACIONAR, SIN LA CORRESPONDIENTE AUTORIZACIÓ...              \n",
       "1993300  ESTACIONAR EN LUGAR PROHIBIDO. VEHÍCULO DE CAT...              \n",
       "1993301  ESTACIONAR, SIN LA CORRESPONDIENTE AUTORIZACIÓ...              \n",
       "1993302  ESTACIONAR, SIN LA CORRESPONDIENTE AUTORIZACIÓ...              \n",
       "1993303  ESTACIONAR CON AUTORIZACIÓN NO VÁLIDA.        ...              \n",
       "\n",
       "        VEL_CIRCULA COORDENADA_X   COORDENADA_Y  \n",
       "0                                                \n",
       "1                                                \n",
       "2                                                \n",
       "3                                                \n",
       "4                                                \n",
       "...             ...          ...            ...  \n",
       "1993299                                          \n",
       "1993300                                          \n",
       "1993301                                          \n",
       "1993302                                          \n",
       "1993303                                          \n",
       "\n",
       "[1993304 rows x 14 columns]"
      ]
     },
     "execution_count": 4,
     "metadata": {},
     "output_type": "execute_result"
    }
   ],
   "source": [
    "df\n"
   ]
  },
  {
   "cell_type": "markdown",
   "id": "5ebea289",
   "metadata": {},
   "source": [
    "Finally We get the shape of the dataframe"
   ]
  },
  {
   "cell_type": "code",
   "execution_count": 5,
   "id": "7663d445",
   "metadata": {},
   "outputs": [
    {
     "data": {
      "text/plain": [
       "(1993304, 14)"
      ]
     },
     "execution_count": 5,
     "metadata": {},
     "output_type": "execute_result"
    }
   ],
   "source": [
    "df.shape"
   ]
  },
  {
   "cell_type": "markdown",
   "id": "0f66fa3c",
   "metadata": {},
   "source": [
    "## As such, we are not going to work with geographic data, delete the __COORDENADA_X__ and __COORDENADA_Y__ columns.\n"
   ]
  },
  {
   "cell_type": "code",
   "execution_count": 6,
   "id": "0277eb60",
   "metadata": {},
   "outputs": [
    {
     "data": {
      "text/plain": [
       "Index(['CALIFICACION', 'LUGAR', 'MES', 'ANIO', 'HORA', 'IMP_BOL', 'DESCUENTO',\n",
       "       'PUNTOS', 'DENUNCIANTE', 'HECHO-BOL', 'VEL_LIMITE', 'VEL_CIRCULA',\n",
       "       'COORDENADA_X', 'COORDENADA_Y'],\n",
       "      dtype='object')"
      ]
     },
     "execution_count": 6,
     "metadata": {},
     "output_type": "execute_result"
    }
   ],
   "source": [
    "df.columns"
   ]
  },
  {
   "cell_type": "code",
   "execution_count": 7,
   "id": "3f86c684",
   "metadata": {
    "scrolled": true
   },
   "outputs": [
    {
     "data": {
      "text/html": [
       "<div>\n",
       "<style scoped>\n",
       "    .dataframe tbody tr th:only-of-type {\n",
       "        vertical-align: middle;\n",
       "    }\n",
       "\n",
       "    .dataframe tbody tr th {\n",
       "        vertical-align: top;\n",
       "    }\n",
       "\n",
       "    .dataframe thead th {\n",
       "        text-align: right;\n",
       "    }\n",
       "</style>\n",
       "<table border=\"1\" class=\"dataframe\">\n",
       "  <thead>\n",
       "    <tr style=\"text-align: right;\">\n",
       "      <th></th>\n",
       "      <th>CALIFICACION</th>\n",
       "      <th>LUGAR</th>\n",
       "      <th>MES</th>\n",
       "      <th>ANIO</th>\n",
       "      <th>HORA</th>\n",
       "      <th>IMP_BOL</th>\n",
       "      <th>DESCUENTO</th>\n",
       "      <th>PUNTOS</th>\n",
       "      <th>DENUNCIANTE</th>\n",
       "      <th>HECHO-BOL</th>\n",
       "      <th>VEL_LIMITE</th>\n",
       "      <th>VEL_CIRCULA</th>\n",
       "    </tr>\n",
       "  </thead>\n",
       "  <tbody>\n",
       "    <tr>\n",
       "      <th>0</th>\n",
       "      <td>GRAVE</td>\n",
       "      <td>ALFONSO XII</td>\n",
       "      <td>1</td>\n",
       "      <td>2020</td>\n",
       "      <td>12.18</td>\n",
       "      <td>200.0</td>\n",
       "      <td>SI</td>\n",
       "      <td>3</td>\n",
       "      <td>POLICIA MUNICIPAL</td>\n",
       "      <td>CONDUCIR UTILIZANDO MANUALMENTE TELEFONÍA MÓVI...</td>\n",
       "      <td></td>\n",
       "      <td></td>\n",
       "    </tr>\n",
       "    <tr>\n",
       "      <th>1</th>\n",
       "      <td>GRAVE</td>\n",
       "      <td>AV BADAJOZ 5</td>\n",
       "      <td>1</td>\n",
       "      <td>2020</td>\n",
       "      <td>9.46</td>\n",
       "      <td>200.0</td>\n",
       "      <td>SI</td>\n",
       "      <td>0</td>\n",
       "      <td>POLICIA MUNICIPAL</td>\n",
       "      <td>ESTACIONAR EN DOBLE FILA.                     ...</td>\n",
       "      <td></td>\n",
       "      <td></td>\n",
       "    </tr>\n",
       "    <tr>\n",
       "      <th>2</th>\n",
       "      <td>LEVE</td>\n",
       "      <td>ARISTOTELES 7 POSTERIOR</td>\n",
       "      <td>1</td>\n",
       "      <td>2020</td>\n",
       "      <td>13.55</td>\n",
       "      <td>90.0</td>\n",
       "      <td>SI</td>\n",
       "      <td>0</td>\n",
       "      <td>POLICIA MUNICIPAL</td>\n",
       "      <td>ESTACIONAR EN LUGAR PROHIBIDO.                ...</td>\n",
       "      <td></td>\n",
       "      <td></td>\n",
       "    </tr>\n",
       "    <tr>\n",
       "      <th>3</th>\n",
       "      <td>LEVE</td>\n",
       "      <td>ARISTOTELES 7 POSTERIOR</td>\n",
       "      <td>1</td>\n",
       "      <td>2020</td>\n",
       "      <td>14.00</td>\n",
       "      <td>90.0</td>\n",
       "      <td>SI</td>\n",
       "      <td>0</td>\n",
       "      <td>POLICIA MUNICIPAL</td>\n",
       "      <td>ESTACIONAR EN LUGAR PROHIBIDO.                ...</td>\n",
       "      <td></td>\n",
       "      <td></td>\n",
       "    </tr>\n",
       "    <tr>\n",
       "      <th>4</th>\n",
       "      <td>LEVE</td>\n",
       "      <td>VIRGEN DE LLUC 70</td>\n",
       "      <td>1</td>\n",
       "      <td>2020</td>\n",
       "      <td>12.12</td>\n",
       "      <td>90.0</td>\n",
       "      <td>SI</td>\n",
       "      <td>0</td>\n",
       "      <td>POLICIA MUNICIPAL</td>\n",
       "      <td>ESTACIONAR SOBRE LA ACERA.                    ...</td>\n",
       "      <td></td>\n",
       "      <td></td>\n",
       "    </tr>\n",
       "    <tr>\n",
       "      <th>...</th>\n",
       "      <td>...</td>\n",
       "      <td>...</td>\n",
       "      <td>...</td>\n",
       "      <td>...</td>\n",
       "      <td>...</td>\n",
       "      <td>...</td>\n",
       "      <td>...</td>\n",
       "      <td>...</td>\n",
       "      <td>...</td>\n",
       "      <td>...</td>\n",
       "      <td>...</td>\n",
       "      <td>...</td>\n",
       "    </tr>\n",
       "    <tr>\n",
       "      <th>1993299</th>\n",
       "      <td>LEVE</td>\n",
       "      <td>CL PADRE DAMIAN 19</td>\n",
       "      <td>12</td>\n",
       "      <td>2020</td>\n",
       "      <td>14.14</td>\n",
       "      <td>90.0</td>\n",
       "      <td>SI</td>\n",
       "      <td>0</td>\n",
       "      <td>SER</td>\n",
       "      <td>ESTACIONAR, SIN LA CORRESPONDIENTE AUTORIZACIÓ...</td>\n",
       "      <td></td>\n",
       "      <td></td>\n",
       "    </tr>\n",
       "    <tr>\n",
       "      <th>1993300</th>\n",
       "      <td>LEVE</td>\n",
       "      <td>CL JUAN RAMON JIMENEZ 2</td>\n",
       "      <td>12</td>\n",
       "      <td>2020</td>\n",
       "      <td>14.23</td>\n",
       "      <td>90.0</td>\n",
       "      <td>SI</td>\n",
       "      <td>0</td>\n",
       "      <td>SER</td>\n",
       "      <td>ESTACIONAR EN LUGAR PROHIBIDO. VEHÍCULO DE CAT...</td>\n",
       "      <td></td>\n",
       "      <td></td>\n",
       "    </tr>\n",
       "    <tr>\n",
       "      <th>1993301</th>\n",
       "      <td>LEVE</td>\n",
       "      <td>CL JUAN RAMON JIMENEZ 15</td>\n",
       "      <td>12</td>\n",
       "      <td>2020</td>\n",
       "      <td>14.30</td>\n",
       "      <td>90.0</td>\n",
       "      <td>SI</td>\n",
       "      <td>0</td>\n",
       "      <td>SER</td>\n",
       "      <td>ESTACIONAR, SIN LA CORRESPONDIENTE AUTORIZACIÓ...</td>\n",
       "      <td></td>\n",
       "      <td></td>\n",
       "    </tr>\n",
       "    <tr>\n",
       "      <th>1993302</th>\n",
       "      <td>LEVE</td>\n",
       "      <td>CL VICTOR DE LA SERNA 1</td>\n",
       "      <td>12</td>\n",
       "      <td>2020</td>\n",
       "      <td>9.51</td>\n",
       "      <td>90.0</td>\n",
       "      <td>SI</td>\n",
       "      <td>0</td>\n",
       "      <td>SER</td>\n",
       "      <td>ESTACIONAR, SIN LA CORRESPONDIENTE AUTORIZACIÓ...</td>\n",
       "      <td></td>\n",
       "      <td></td>\n",
       "    </tr>\n",
       "    <tr>\n",
       "      <th>1993303</th>\n",
       "      <td>LEVE</td>\n",
       "      <td>CL VICTOR DE LA SERNA 5</td>\n",
       "      <td>12</td>\n",
       "      <td>2020</td>\n",
       "      <td>10.55</td>\n",
       "      <td>60.0</td>\n",
       "      <td>SI</td>\n",
       "      <td>0</td>\n",
       "      <td>SER</td>\n",
       "      <td>ESTACIONAR CON AUTORIZACIÓN NO VÁLIDA.        ...</td>\n",
       "      <td></td>\n",
       "      <td></td>\n",
       "    </tr>\n",
       "  </tbody>\n",
       "</table>\n",
       "<p>1993304 rows × 12 columns</p>\n",
       "</div>"
      ],
      "text/plain": [
       "        CALIFICACION                                     LUGAR  MES  ANIO  \\\n",
       "0         GRAVE       ALFONSO XII                                 1  2020   \n",
       "1         GRAVE       AV BADAJOZ 5                                1  2020   \n",
       "2         LEVE        ARISTOTELES 7 POSTERIOR                     1  2020   \n",
       "3         LEVE        ARISTOTELES 7 POSTERIOR                     1  2020   \n",
       "4         LEVE        VIRGEN DE LLUC 70                           1  2020   \n",
       "...              ...                                       ...  ...   ...   \n",
       "1993299   LEVE        CL PADRE DAMIAN 19                         12  2020   \n",
       "1993300   LEVE        CL JUAN RAMON JIMENEZ 2                    12  2020   \n",
       "1993301   LEVE        CL JUAN RAMON JIMENEZ 15                   12  2020   \n",
       "1993302   LEVE        CL VICTOR DE LA SERNA 1                    12  2020   \n",
       "1993303   LEVE        CL VICTOR DE LA SERNA 5                    12  2020   \n",
       "\n",
       "          HORA  IMP_BOL DESCUENTO  PUNTOS           DENUNCIANTE  \\\n",
       "0        12.18    200.0        SI       3  POLICIA MUNICIPAL      \n",
       "1         9.46    200.0        SI       0  POLICIA MUNICIPAL      \n",
       "2        13.55     90.0        SI       0  POLICIA MUNICIPAL      \n",
       "3        14.00     90.0        SI       0  POLICIA MUNICIPAL      \n",
       "4        12.12     90.0        SI       0  POLICIA MUNICIPAL      \n",
       "...        ...      ...       ...     ...                   ...   \n",
       "1993299  14.14     90.0        SI       0  SER                    \n",
       "1993300  14.23     90.0        SI       0  SER                    \n",
       "1993301  14.30     90.0        SI       0  SER                    \n",
       "1993302   9.51     90.0        SI       0  SER                    \n",
       "1993303  10.55     60.0        SI       0  SER                    \n",
       "\n",
       "                                                 HECHO-BOL VEL_LIMITE  \\\n",
       "0        CONDUCIR UTILIZANDO MANUALMENTE TELEFONÍA MÓVI...              \n",
       "1        ESTACIONAR EN DOBLE FILA.                     ...              \n",
       "2        ESTACIONAR EN LUGAR PROHIBIDO.                ...              \n",
       "3        ESTACIONAR EN LUGAR PROHIBIDO.                ...              \n",
       "4        ESTACIONAR SOBRE LA ACERA.                    ...              \n",
       "...                                                    ...        ...   \n",
       "1993299  ESTACIONAR, SIN LA CORRESPONDIENTE AUTORIZACIÓ...              \n",
       "1993300  ESTACIONAR EN LUGAR PROHIBIDO. VEHÍCULO DE CAT...              \n",
       "1993301  ESTACIONAR, SIN LA CORRESPONDIENTE AUTORIZACIÓ...              \n",
       "1993302  ESTACIONAR, SIN LA CORRESPONDIENTE AUTORIZACIÓ...              \n",
       "1993303  ESTACIONAR CON AUTORIZACIÓN NO VÁLIDA.        ...              \n",
       "\n",
       "        VEL_CIRCULA  \n",
       "0                    \n",
       "1                    \n",
       "2                    \n",
       "3                    \n",
       "4                    \n",
       "...             ...  \n",
       "1993299              \n",
       "1993300              \n",
       "1993301              \n",
       "1993302              \n",
       "1993303              \n",
       "\n",
       "[1993304 rows x 12 columns]"
      ]
     },
     "execution_count": 7,
     "metadata": {},
     "output_type": "execute_result"
    }
   ],
   "source": [
    "df.drop([\"COORDENADA_X\", \"COORDENADA_Y\"], axis=1, inplace=True)\n",
    "df"
   ]
  },
  {
   "cell_type": "markdown",
   "id": "3a5d2478",
   "metadata": {},
   "source": [
    "1993304 rows × 12 columns"
   ]
  },
  {
   "cell_type": "markdown",
   "id": "6e044a97",
   "metadata": {},
   "source": [
    "## Check the unique values of the variables, there are some of them that do not have unique values, so they are constants, is it worth having them in the dataframe?\n"
   ]
  },
  {
   "cell_type": "markdown",
   "id": "5aa7cc00",
   "metadata": {},
   "source": [
    "We check which columns have constant variables and remove them from the dataframe"
   ]
  },
  {
   "cell_type": "code",
   "execution_count": 8,
   "id": "999535e1",
   "metadata": {},
   "outputs": [
    {
     "name": "stdout",
     "output_type": "stream",
     "text": [
      "[2020]\n",
      "['SI']\n"
     ]
    }
   ],
   "source": [
    "columns = df.columns\n",
    "for column in columns: \n",
    " # How many unique elements does each column have?\n",
    "    if len(df[column].unique())==1: # If the count gives us equal to one\n",
    "        print(df[column].unique()) # We print the value\n",
    "        df.drop(column, axis=1, inplace=True) # and delete the column with a constant value"
   ]
  },
  {
   "cell_type": "code",
   "execution_count": 9,
   "id": "c07cc6ce",
   "metadata": {
    "scrolled": true
   },
   "outputs": [
    {
     "data": {
      "text/plain": [
       "Index(['CALIFICACION', 'LUGAR', 'MES', 'HORA', 'IMP_BOL', 'PUNTOS',\n",
       "       'DENUNCIANTE', 'HECHO-BOL', 'VEL_LIMITE', 'VEL_CIRCULA'],\n",
       "      dtype='object')"
      ]
     },
     "execution_count": 9,
     "metadata": {},
     "output_type": "execute_result"
    }
   ],
   "source": [
    "df.columns"
   ]
  },
  {
   "cell_type": "markdown",
   "id": "24967523",
   "metadata": {},
   "source": [
    "## It seems that the __VEL_LIMITE__ and __VEL_CIRCULA__ columns have empty values, this is because if the infraction was not caused by exceeding any speed limit, this value appears empty, change all the anomalies you detect to null. Hint: Investigate how to use regex with a regular expression like r'^\\s*$' in the replace function\n"
   ]
  },
  {
   "cell_type": "markdown",
   "id": "a3654f74",
   "metadata": {},
   "source": [
    "`r'^\\s*$'` this a regular expression (regex) that matches empty lines and white spaces\n",
    "\n",
    "Regex is a sequence of characters that forms a search pattern.\n",
    "\n",
    "This code reads: When a value satisfies the regular expression We replace it with NaN."
   ]
  },
  {
   "cell_type": "markdown",
   "id": "36f3c857",
   "metadata": {},
   "source": [
    "That's how we substiture all NaN values by zeros, in VEL_LIMITE and VEL_CIRCULA columns"
   ]
  },
  {
   "cell_type": "code",
   "execution_count": 10,
   "id": "43a08e7d",
   "metadata": {},
   "outputs": [
    {
     "data": {
      "text/html": [
       "<div>\n",
       "<style scoped>\n",
       "    .dataframe tbody tr th:only-of-type {\n",
       "        vertical-align: middle;\n",
       "    }\n",
       "\n",
       "    .dataframe tbody tr th {\n",
       "        vertical-align: top;\n",
       "    }\n",
       "\n",
       "    .dataframe thead th {\n",
       "        text-align: right;\n",
       "    }\n",
       "</style>\n",
       "<table border=\"1\" class=\"dataframe\">\n",
       "  <thead>\n",
       "    <tr style=\"text-align: right;\">\n",
       "      <th></th>\n",
       "      <th>CALIFICACION</th>\n",
       "      <th>LUGAR</th>\n",
       "      <th>MES</th>\n",
       "      <th>HORA</th>\n",
       "      <th>IMP_BOL</th>\n",
       "      <th>PUNTOS</th>\n",
       "      <th>DENUNCIANTE</th>\n",
       "      <th>HECHO-BOL</th>\n",
       "      <th>VEL_LIMITE</th>\n",
       "      <th>VEL_CIRCULA</th>\n",
       "    </tr>\n",
       "  </thead>\n",
       "  <tbody>\n",
       "    <tr>\n",
       "      <th>0</th>\n",
       "      <td>GRAVE</td>\n",
       "      <td>ALFONSO XII</td>\n",
       "      <td>1</td>\n",
       "      <td>12.18</td>\n",
       "      <td>200.0</td>\n",
       "      <td>3</td>\n",
       "      <td>POLICIA MUNICIPAL</td>\n",
       "      <td>CONDUCIR UTILIZANDO MANUALMENTE TELEFONÍA MÓVI...</td>\n",
       "      <td>NaN</td>\n",
       "      <td>NaN</td>\n",
       "    </tr>\n",
       "    <tr>\n",
       "      <th>1</th>\n",
       "      <td>GRAVE</td>\n",
       "      <td>AV BADAJOZ 5</td>\n",
       "      <td>1</td>\n",
       "      <td>9.46</td>\n",
       "      <td>200.0</td>\n",
       "      <td>0</td>\n",
       "      <td>POLICIA MUNICIPAL</td>\n",
       "      <td>ESTACIONAR EN DOBLE FILA.                     ...</td>\n",
       "      <td>NaN</td>\n",
       "      <td>NaN</td>\n",
       "    </tr>\n",
       "    <tr>\n",
       "      <th>2</th>\n",
       "      <td>LEVE</td>\n",
       "      <td>ARISTOTELES 7 POSTERIOR</td>\n",
       "      <td>1</td>\n",
       "      <td>13.55</td>\n",
       "      <td>90.0</td>\n",
       "      <td>0</td>\n",
       "      <td>POLICIA MUNICIPAL</td>\n",
       "      <td>ESTACIONAR EN LUGAR PROHIBIDO.                ...</td>\n",
       "      <td>NaN</td>\n",
       "      <td>NaN</td>\n",
       "    </tr>\n",
       "    <tr>\n",
       "      <th>3</th>\n",
       "      <td>LEVE</td>\n",
       "      <td>ARISTOTELES 7 POSTERIOR</td>\n",
       "      <td>1</td>\n",
       "      <td>14.00</td>\n",
       "      <td>90.0</td>\n",
       "      <td>0</td>\n",
       "      <td>POLICIA MUNICIPAL</td>\n",
       "      <td>ESTACIONAR EN LUGAR PROHIBIDO.                ...</td>\n",
       "      <td>NaN</td>\n",
       "      <td>NaN</td>\n",
       "    </tr>\n",
       "    <tr>\n",
       "      <th>4</th>\n",
       "      <td>LEVE</td>\n",
       "      <td>VIRGEN DE LLUC 70</td>\n",
       "      <td>1</td>\n",
       "      <td>12.12</td>\n",
       "      <td>90.0</td>\n",
       "      <td>0</td>\n",
       "      <td>POLICIA MUNICIPAL</td>\n",
       "      <td>ESTACIONAR SOBRE LA ACERA.                    ...</td>\n",
       "      <td>NaN</td>\n",
       "      <td>NaN</td>\n",
       "    </tr>\n",
       "    <tr>\n",
       "      <th>...</th>\n",
       "      <td>...</td>\n",
       "      <td>...</td>\n",
       "      <td>...</td>\n",
       "      <td>...</td>\n",
       "      <td>...</td>\n",
       "      <td>...</td>\n",
       "      <td>...</td>\n",
       "      <td>...</td>\n",
       "      <td>...</td>\n",
       "      <td>...</td>\n",
       "    </tr>\n",
       "    <tr>\n",
       "      <th>1993299</th>\n",
       "      <td>LEVE</td>\n",
       "      <td>CL PADRE DAMIAN 19</td>\n",
       "      <td>12</td>\n",
       "      <td>14.14</td>\n",
       "      <td>90.0</td>\n",
       "      <td>0</td>\n",
       "      <td>SER</td>\n",
       "      <td>ESTACIONAR, SIN LA CORRESPONDIENTE AUTORIZACIÓ...</td>\n",
       "      <td>NaN</td>\n",
       "      <td>NaN</td>\n",
       "    </tr>\n",
       "    <tr>\n",
       "      <th>1993300</th>\n",
       "      <td>LEVE</td>\n",
       "      <td>CL JUAN RAMON JIMENEZ 2</td>\n",
       "      <td>12</td>\n",
       "      <td>14.23</td>\n",
       "      <td>90.0</td>\n",
       "      <td>0</td>\n",
       "      <td>SER</td>\n",
       "      <td>ESTACIONAR EN LUGAR PROHIBIDO. VEHÍCULO DE CAT...</td>\n",
       "      <td>NaN</td>\n",
       "      <td>NaN</td>\n",
       "    </tr>\n",
       "    <tr>\n",
       "      <th>1993301</th>\n",
       "      <td>LEVE</td>\n",
       "      <td>CL JUAN RAMON JIMENEZ 15</td>\n",
       "      <td>12</td>\n",
       "      <td>14.30</td>\n",
       "      <td>90.0</td>\n",
       "      <td>0</td>\n",
       "      <td>SER</td>\n",
       "      <td>ESTACIONAR, SIN LA CORRESPONDIENTE AUTORIZACIÓ...</td>\n",
       "      <td>NaN</td>\n",
       "      <td>NaN</td>\n",
       "    </tr>\n",
       "    <tr>\n",
       "      <th>1993302</th>\n",
       "      <td>LEVE</td>\n",
       "      <td>CL VICTOR DE LA SERNA 1</td>\n",
       "      <td>12</td>\n",
       "      <td>9.51</td>\n",
       "      <td>90.0</td>\n",
       "      <td>0</td>\n",
       "      <td>SER</td>\n",
       "      <td>ESTACIONAR, SIN LA CORRESPONDIENTE AUTORIZACIÓ...</td>\n",
       "      <td>NaN</td>\n",
       "      <td>NaN</td>\n",
       "    </tr>\n",
       "    <tr>\n",
       "      <th>1993303</th>\n",
       "      <td>LEVE</td>\n",
       "      <td>CL VICTOR DE LA SERNA 5</td>\n",
       "      <td>12</td>\n",
       "      <td>10.55</td>\n",
       "      <td>60.0</td>\n",
       "      <td>0</td>\n",
       "      <td>SER</td>\n",
       "      <td>ESTACIONAR CON AUTORIZACIÓN NO VÁLIDA.        ...</td>\n",
       "      <td>NaN</td>\n",
       "      <td>NaN</td>\n",
       "    </tr>\n",
       "  </tbody>\n",
       "</table>\n",
       "<p>1993304 rows × 10 columns</p>\n",
       "</div>"
      ],
      "text/plain": [
       "        CALIFICACION                                     LUGAR  MES   HORA  \\\n",
       "0         GRAVE       ALFONSO XII                                 1  12.18   \n",
       "1         GRAVE       AV BADAJOZ 5                                1   9.46   \n",
       "2         LEVE        ARISTOTELES 7 POSTERIOR                     1  13.55   \n",
       "3         LEVE        ARISTOTELES 7 POSTERIOR                     1  14.00   \n",
       "4         LEVE        VIRGEN DE LLUC 70                           1  12.12   \n",
       "...              ...                                       ...  ...    ...   \n",
       "1993299   LEVE        CL PADRE DAMIAN 19                         12  14.14   \n",
       "1993300   LEVE        CL JUAN RAMON JIMENEZ 2                    12  14.23   \n",
       "1993301   LEVE        CL JUAN RAMON JIMENEZ 15                   12  14.30   \n",
       "1993302   LEVE        CL VICTOR DE LA SERNA 1                    12   9.51   \n",
       "1993303   LEVE        CL VICTOR DE LA SERNA 5                    12  10.55   \n",
       "\n",
       "         IMP_BOL  PUNTOS           DENUNCIANTE  \\\n",
       "0          200.0       3  POLICIA MUNICIPAL      \n",
       "1          200.0       0  POLICIA MUNICIPAL      \n",
       "2           90.0       0  POLICIA MUNICIPAL      \n",
       "3           90.0       0  POLICIA MUNICIPAL      \n",
       "4           90.0       0  POLICIA MUNICIPAL      \n",
       "...          ...     ...                   ...   \n",
       "1993299     90.0       0  SER                    \n",
       "1993300     90.0       0  SER                    \n",
       "1993301     90.0       0  SER                    \n",
       "1993302     90.0       0  SER                    \n",
       "1993303     60.0       0  SER                    \n",
       "\n",
       "                                                 HECHO-BOL VEL_LIMITE  \\\n",
       "0        CONDUCIR UTILIZANDO MANUALMENTE TELEFONÍA MÓVI...        NaN   \n",
       "1        ESTACIONAR EN DOBLE FILA.                     ...        NaN   \n",
       "2        ESTACIONAR EN LUGAR PROHIBIDO.                ...        NaN   \n",
       "3        ESTACIONAR EN LUGAR PROHIBIDO.                ...        NaN   \n",
       "4        ESTACIONAR SOBRE LA ACERA.                    ...        NaN   \n",
       "...                                                    ...        ...   \n",
       "1993299  ESTACIONAR, SIN LA CORRESPONDIENTE AUTORIZACIÓ...        NaN   \n",
       "1993300  ESTACIONAR EN LUGAR PROHIBIDO. VEHÍCULO DE CAT...        NaN   \n",
       "1993301  ESTACIONAR, SIN LA CORRESPONDIENTE AUTORIZACIÓ...        NaN   \n",
       "1993302  ESTACIONAR, SIN LA CORRESPONDIENTE AUTORIZACIÓ...        NaN   \n",
       "1993303  ESTACIONAR CON AUTORIZACIÓN NO VÁLIDA.        ...        NaN   \n",
       "\n",
       "        VEL_CIRCULA  \n",
       "0               NaN  \n",
       "1               NaN  \n",
       "2               NaN  \n",
       "3               NaN  \n",
       "4               NaN  \n",
       "...             ...  \n",
       "1993299         NaN  \n",
       "1993300         NaN  \n",
       "1993301         NaN  \n",
       "1993302         NaN  \n",
       "1993303         NaN  \n",
       "\n",
       "[1993304 rows x 10 columns]"
      ]
     },
     "execution_count": 10,
     "metadata": {},
     "output_type": "execute_result"
    }
   ],
   "source": [
    "# we put np in front of Nan because there is no Nan in the pandas library.\n",
    "\n",
    "df.VEL_LIMITE = df.VEL_LIMITE.replace(r'^\\s*$', np.NaN, regex= True)\n",
    "df.VEL_CIRCULA = df.VEL_CIRCULA.replace(r'^\\s*$', np.NaN, regex= True)\n",
    "df\n"
   ]
  },
  {
   "cell_type": "markdown",
   "id": "65d81590",
   "metadata": {},
   "source": [
    "To check that the NaN values are equal to the number of total rows without the number of fields with a value that is not a NaN: \n",
    "\n",
    "Total number of rows in the df - sum of frequencies of VEL_LIMIT = Number of NaN values"
   ]
  },
  {
   "cell_type": "code",
   "execution_count": 11,
   "id": "1d38ec25",
   "metadata": {},
   "outputs": [
    {
     "data": {
      "text/plain": [
       "VEL_LIMITE\n",
       " 70    259747\n",
       " 90     92510\n",
       " 50     72859\n",
       "70       6574\n",
       " 80      3688\n",
       " 40      2472\n",
       " 60      2188\n",
       "90       1892\n",
       " 30      1343\n",
       "50        177\n",
       " 20         1\n",
       "dtype: int64"
      ]
     },
     "execution_count": 11,
     "metadata": {},
     "output_type": "execute_result"
    }
   ],
   "source": [
    "df.value_counts(df.VEL_LIMITE)"
   ]
  },
  {
   "cell_type": "markdown",
   "id": "94d33807",
   "metadata": {},
   "source": [
    "We get the number of NaN values in the column VEL_LIMITE"
   ]
  },
  {
   "cell_type": "code",
   "execution_count": 12,
   "id": "cf56b238",
   "metadata": {},
   "outputs": [
    {
     "data": {
      "text/plain": [
       "1549853"
      ]
     },
     "execution_count": 12,
     "metadata": {},
     "output_type": "execute_result"
    }
   ],
   "source": [
    "NaN_values = df['VEL_LIMITE'].isna().sum()\n",
    "NaN_values"
   ]
  },
  {
   "cell_type": "markdown",
   "id": "68e2cd0d",
   "metadata": {},
   "source": [
    "We get the total number of rows"
   ]
  },
  {
   "cell_type": "code",
   "execution_count": 13,
   "id": "59fb0fb6",
   "metadata": {},
   "outputs": [
    {
     "data": {
      "text/plain": [
       "1993304"
      ]
     },
     "execution_count": 13,
     "metadata": {},
     "output_type": "execute_result"
    }
   ],
   "source": [
    "total_rows = df.shape[0]\n",
    "total_rows"
   ]
  },
  {
   "cell_type": "markdown",
   "id": "715da8b2",
   "metadata": {},
   "source": [
    "We get the count of all values that are different to NaN"
   ]
  },
  {
   "cell_type": "code",
   "execution_count": 14,
   "id": "d744c0e9",
   "metadata": {},
   "outputs": [
    {
     "data": {
      "text/plain": [
       "443451"
      ]
     },
     "execution_count": 14,
     "metadata": {},
     "output_type": "execute_result"
    }
   ],
   "source": [
    "not_NaN_values = df.value_counts(df.VEL_LIMITE).sum()\n",
    "not_NaN_values"
   ]
  },
  {
   "cell_type": "code",
   "execution_count": 15,
   "id": "aad48330",
   "metadata": {},
   "outputs": [
    {
     "data": {
      "text/plain": [
       "True"
      ]
     },
     "execution_count": 15,
     "metadata": {},
     "output_type": "execute_result"
    }
   ],
   "source": [
    "total_rows - not_NaN_values == NaN_values"
   ]
  },
  {
   "cell_type": "markdown",
   "id": "551a7dcd",
   "metadata": {},
   "source": [
    "## The two columns __VEL_LIMITE__ and __VEL_CIRCULA__ despite being two purely numerical columns, are recognized as \"object\" type, check the frequency of values, you will see that they are counted as text strings, therefore:\n",
    "\n",
    "- Change the nulls of the two variables to 0\n",
    "\n",
    "- Change the type of the variable to numeric\n",
    "\n",
    "- What is the most repeated speed limit other than zero?\n"
   ]
  },
  {
   "cell_type": "markdown",
   "id": "88625983",
   "metadata": {},
   "source": [
    "VEL_LIMITE and VEL_CIRCULA are reconnized as \"object\" type because those columns contain null values"
   ]
  },
  {
   "cell_type": "code",
   "execution_count": 16,
   "id": "5e207467",
   "metadata": {},
   "outputs": [
    {
     "data": {
      "text/plain": [
       "VEL_LIMITE     object\n",
       "VEL_CIRCULA    object\n",
       "dtype: object"
      ]
     },
     "execution_count": 16,
     "metadata": {},
     "output_type": "execute_result"
    }
   ],
   "source": [
    "df.loc[:, [\"VEL_LIMITE\", \"VEL_CIRCULA\"]].dtypes"
   ]
  },
  {
   "cell_type": "markdown",
   "id": "0d430823",
   "metadata": {},
   "source": [
    "### We replace all the NaN with 0"
   ]
  },
  {
   "cell_type": "code",
   "execution_count": 17,
   "id": "f726ad33",
   "metadata": {},
   "outputs": [],
   "source": [
    "df.VEL_LIMITE = df.VEL_LIMITE.replace(np.NaN, 0)\n",
    "df.VEL_CIRCULA = df.VEL_CIRCULA.replace(np.NaN, 0)"
   ]
  },
  {
   "cell_type": "markdown",
   "id": "1cd744c3",
   "metadata": {},
   "source": [
    "### We change the type of the column variables to integer"
   ]
  },
  {
   "cell_type": "code",
   "execution_count": 18,
   "id": "a81d1b49",
   "metadata": {},
   "outputs": [
    {
     "data": {
      "text/plain": [
       "VEL_LIMITE     int32\n",
       "VEL_CIRCULA    int32\n",
       "dtype: object"
      ]
     },
     "execution_count": 18,
     "metadata": {},
     "output_type": "execute_result"
    }
   ],
   "source": [
    "df.VEL_LIMITE = df.VEL_LIMITE.astype(int)\n",
    "df.VEL_CIRCULA = df.VEL_CIRCULA.astype(int)\n",
    "df.loc[:, [\"VEL_LIMITE\", \"VEL_CIRCULA\"]].dtypes"
   ]
  },
  {
   "cell_type": "markdown",
   "id": "220c6dea",
   "metadata": {},
   "source": [
    "### The most repeated speed limit is 70"
   ]
  },
  {
   "cell_type": "code",
   "execution_count": 19,
   "id": "a457ef6d",
   "metadata": {},
   "outputs": [
    {
     "data": {
      "text/plain": [
       "VEL_LIMITE\n",
       "0     1549853\n",
       "70     266321\n",
       "90      94402\n",
       "50      73036\n",
       "80       3688\n",
       "40       2472\n",
       "60       2188\n",
       "30       1343\n",
       "20          1\n",
       "dtype: int64"
      ]
     },
     "execution_count": 19,
     "metadata": {},
     "output_type": "execute_result"
    }
   ],
   "source": [
    "df.value_counts(df.VEL_LIMITE)"
   ]
  },
  {
   "cell_type": "code",
   "execution_count": 20,
   "id": "76e15817",
   "metadata": {},
   "outputs": [
    {
     "data": {
      "text/plain": [
       "Index(['CALIFICACION', 'LUGAR', 'MES', 'HORA', 'IMP_BOL', 'PUNTOS',\n",
       "       'DENUNCIANTE', 'HECHO-BOL', 'VEL_LIMITE', 'VEL_CIRCULA'],\n",
       "      dtype='object')"
      ]
     },
     "execution_count": 20,
     "metadata": {},
     "output_type": "execute_result"
    }
   ],
   "source": [
    "df.columns"
   ]
  },
  {
   "cell_type": "markdown",
   "id": "bede1aac",
   "metadata": {},
   "source": [
    "## Generate a new column called DIFFERENCE_KMH that is the result of subtracting from each value of the speed at which the driver was circulating the speed limit at which the infraction occurred, to obtain a top 10 of the drivers who exceeded the limits to higher speed"
   ]
  },
  {
   "cell_type": "markdown",
   "id": "3ae448af",
   "metadata": {},
   "source": [
    "We have then proceeded to create a column called DIFFERENCE_KMH in which the difference between the circulation velocity (VEL_CIRCULA) and the limit velocity (VEL_LIMIT)."
   ]
  },
  {
   "cell_type": "code",
   "execution_count": 21,
   "id": "87001a4a",
   "metadata": {},
   "outputs": [],
   "source": [
    "df[\"DIFFERENCE_KMH\"]= df[\"VEL_CIRCULA\"] - df[\"VEL_LIMITE\"]"
   ]
  },
  {
   "cell_type": "markdown",
   "id": "95e2c279",
   "metadata": {},
   "source": [
    "Finally We obtain the top 10 of drivers that exceeded more the limit of velocity."
   ]
  },
  {
   "cell_type": "code",
   "execution_count": 22,
   "id": "45c7cd76",
   "metadata": {},
   "outputs": [
    {
     "data": {
      "text/html": [
       "<div>\n",
       "<style scoped>\n",
       "    .dataframe tbody tr th:only-of-type {\n",
       "        vertical-align: middle;\n",
       "    }\n",
       "\n",
       "    .dataframe tbody tr th {\n",
       "        vertical-align: top;\n",
       "    }\n",
       "\n",
       "    .dataframe thead th {\n",
       "        text-align: right;\n",
       "    }\n",
       "</style>\n",
       "<table border=\"1\" class=\"dataframe\">\n",
       "  <thead>\n",
       "    <tr style=\"text-align: right;\">\n",
       "      <th></th>\n",
       "      <th>CALIFICACION</th>\n",
       "      <th>LUGAR</th>\n",
       "      <th>MES</th>\n",
       "      <th>HORA</th>\n",
       "      <th>IMP_BOL</th>\n",
       "      <th>PUNTOS</th>\n",
       "      <th>DENUNCIANTE</th>\n",
       "      <th>HECHO-BOL</th>\n",
       "      <th>VEL_LIMITE</th>\n",
       "      <th>VEL_CIRCULA</th>\n",
       "      <th>DIFFERENCE_KMH</th>\n",
       "    </tr>\n",
       "  </thead>\n",
       "  <tbody>\n",
       "    <tr>\n",
       "      <th>448783</th>\n",
       "      <td>GRAVE</td>\n",
       "      <td>M 30 FT KM 4,150 CR 1</td>\n",
       "      <td>3</td>\n",
       "      <td>23.43</td>\n",
       "      <td>500.0</td>\n",
       "      <td>6</td>\n",
       "      <td>POLICIA MUNICIPAL</td>\n",
       "      <td>SOBREPASAR LA VELOCIDAD MÁXIMA EN VÍAS LIMITAD...</td>\n",
       "      <td>70</td>\n",
       "      <td>140</td>\n",
       "      <td>70</td>\n",
       "    </tr>\n",
       "    <tr>\n",
       "      <th>1293088</th>\n",
       "      <td>GRAVE</td>\n",
       "      <td>M 30 XC KM 10,300 CR 3</td>\n",
       "      <td>9</td>\n",
       "      <td>23.25</td>\n",
       "      <td>500.0</td>\n",
       "      <td>6</td>\n",
       "      <td>POLICIA MUNICIPAL</td>\n",
       "      <td>SOBREPASAR LA VELOCIDAD MÁXIMA EN VÍAS LIMITAD...</td>\n",
       "      <td>70</td>\n",
       "      <td>140</td>\n",
       "      <td>70</td>\n",
       "    </tr>\n",
       "    <tr>\n",
       "      <th>1671450</th>\n",
       "      <td>GRAVE</td>\n",
       "      <td>M 30 KM 6,700 CR 3 CALZADA 1</td>\n",
       "      <td>11</td>\n",
       "      <td>7.53</td>\n",
       "      <td>500.0</td>\n",
       "      <td>6</td>\n",
       "      <td>POLICIA MUNICIPAL</td>\n",
       "      <td>SOBREPASAR LA VELOCIDAD MÁXIMA EN VÍAS LIMITAD...</td>\n",
       "      <td>90</td>\n",
       "      <td>160</td>\n",
       "      <td>70</td>\n",
       "    </tr>\n",
       "    <tr>\n",
       "      <th>1293087</th>\n",
       "      <td>GRAVE</td>\n",
       "      <td>M 30 KM 7,800 CALZADA 2</td>\n",
       "      <td>9</td>\n",
       "      <td>1.11</td>\n",
       "      <td>500.0</td>\n",
       "      <td>6</td>\n",
       "      <td>POLICIA MUNICIPAL</td>\n",
       "      <td>SOBREPASAR LA VELOCIDAD MÁXIMA EN VÍAS LIMITAD...</td>\n",
       "      <td>90</td>\n",
       "      <td>160</td>\n",
       "      <td>70</td>\n",
       "    </tr>\n",
       "    <tr>\n",
       "      <th>293196</th>\n",
       "      <td>GRAVE</td>\n",
       "      <td>M 30 KM 27 DECRECIENTE C 2</td>\n",
       "      <td>2</td>\n",
       "      <td>4.57</td>\n",
       "      <td>500.0</td>\n",
       "      <td>6</td>\n",
       "      <td>POLICIA MUNICIPAL</td>\n",
       "      <td>SOBREPASAR LA VELOCIDAD MÁXIMA EN VÍAS LIMITAD...</td>\n",
       "      <td>90</td>\n",
       "      <td>160</td>\n",
       "      <td>70</td>\n",
       "    </tr>\n",
       "    <tr>\n",
       "      <th>1480910</th>\n",
       "      <td>GRAVE</td>\n",
       "      <td>M 30 KM 27 CARRIL 2 CALZADA 2</td>\n",
       "      <td>10</td>\n",
       "      <td>2.11</td>\n",
       "      <td>500.0</td>\n",
       "      <td>6</td>\n",
       "      <td>POLICIA MUNICIPAL</td>\n",
       "      <td>SOBREPASAR LA VELOCIDAD MÁXIMA EN VÍAS LIMITAD...</td>\n",
       "      <td>90</td>\n",
       "      <td>160</td>\n",
       "      <td>70</td>\n",
       "    </tr>\n",
       "    <tr>\n",
       "      <th>479076</th>\n",
       "      <td>GRAVE</td>\n",
       "      <td>M 30 FT KM 4,150 CR 4</td>\n",
       "      <td>3</td>\n",
       "      <td>20.23</td>\n",
       "      <td>500.0</td>\n",
       "      <td>6</td>\n",
       "      <td>POLICIA MUNICIPAL</td>\n",
       "      <td>SOBREPASAR LA VELOCIDAD MÁXIMA EN VÍAS LIMITAD...</td>\n",
       "      <td>70</td>\n",
       "      <td>139</td>\n",
       "      <td>69</td>\n",
       "    </tr>\n",
       "    <tr>\n",
       "      <th>293195</th>\n",
       "      <td>GRAVE</td>\n",
       "      <td>M 30 FT PK 4,150 CR 4</td>\n",
       "      <td>2</td>\n",
       "      <td>14.06</td>\n",
       "      <td>500.0</td>\n",
       "      <td>6</td>\n",
       "      <td>POLICIA MUNICIPAL</td>\n",
       "      <td>SOBREPASAR LA VELOCIDAD MÁXIMA EN VÍAS LIMITAD...</td>\n",
       "      <td>70</td>\n",
       "      <td>139</td>\n",
       "      <td>69</td>\n",
       "    </tr>\n",
       "    <tr>\n",
       "      <th>913637</th>\n",
       "      <td>GRAVE</td>\n",
       "      <td>M 30 KM 0,500 CALZADA 1</td>\n",
       "      <td>7</td>\n",
       "      <td>5.26</td>\n",
       "      <td>500.0</td>\n",
       "      <td>6</td>\n",
       "      <td>POLICIA MUNICIPAL</td>\n",
       "      <td>SOBREPASAR LA VELOCIDAD MÁXIMA EN VÍAS LIMITAD...</td>\n",
       "      <td>90</td>\n",
       "      <td>159</td>\n",
       "      <td>69</td>\n",
       "    </tr>\n",
       "    <tr>\n",
       "      <th>1480909</th>\n",
       "      <td>GRAVE</td>\n",
       "      <td>M 30 KM 6,700 CALZADA 1 CR 3</td>\n",
       "      <td>10</td>\n",
       "      <td>2.06</td>\n",
       "      <td>500.0</td>\n",
       "      <td>6</td>\n",
       "      <td>POLICIA MUNICIPAL</td>\n",
       "      <td>SOBREPASAR LA VELOCIDAD MÁXIMA EN VÍAS LIMITAD...</td>\n",
       "      <td>90</td>\n",
       "      <td>159</td>\n",
       "      <td>69</td>\n",
       "    </tr>\n",
       "  </tbody>\n",
       "</table>\n",
       "</div>"
      ],
      "text/plain": [
       "        CALIFICACION                                     LUGAR  MES   HORA  \\\n",
       "448783    GRAVE       M 30 FT KM 4,150 CR 1                       3  23.43   \n",
       "1293088   GRAVE       M 30 XC KM 10,300 CR 3                      9  23.25   \n",
       "1671450   GRAVE       M 30 KM 6,700 CR 3 CALZADA 1               11   7.53   \n",
       "1293087   GRAVE       M 30 KM 7,800 CALZADA 2                     9   1.11   \n",
       "293196    GRAVE       M 30 KM 27 DECRECIENTE C 2                  2   4.57   \n",
       "1480910   GRAVE       M 30 KM 27 CARRIL 2 CALZADA 2              10   2.11   \n",
       "479076    GRAVE       M 30 FT KM 4,150 CR 4                       3  20.23   \n",
       "293195    GRAVE       M 30 FT PK 4,150 CR 4                       2  14.06   \n",
       "913637    GRAVE       M 30 KM 0,500 CALZADA 1                     7   5.26   \n",
       "1480909   GRAVE       M 30 KM 6,700 CALZADA 1 CR 3               10   2.06   \n",
       "\n",
       "         IMP_BOL  PUNTOS           DENUNCIANTE  \\\n",
       "448783     500.0       6  POLICIA MUNICIPAL      \n",
       "1293088    500.0       6  POLICIA MUNICIPAL      \n",
       "1671450    500.0       6  POLICIA MUNICIPAL      \n",
       "1293087    500.0       6  POLICIA MUNICIPAL      \n",
       "293196     500.0       6  POLICIA MUNICIPAL      \n",
       "1480910    500.0       6  POLICIA MUNICIPAL      \n",
       "479076     500.0       6  POLICIA MUNICIPAL      \n",
       "293195     500.0       6  POLICIA MUNICIPAL      \n",
       "913637     500.0       6  POLICIA MUNICIPAL      \n",
       "1480909    500.0       6  POLICIA MUNICIPAL      \n",
       "\n",
       "                                                 HECHO-BOL  VEL_LIMITE  \\\n",
       "448783   SOBREPASAR LA VELOCIDAD MÁXIMA EN VÍAS LIMITAD...          70   \n",
       "1293088  SOBREPASAR LA VELOCIDAD MÁXIMA EN VÍAS LIMITAD...          70   \n",
       "1671450  SOBREPASAR LA VELOCIDAD MÁXIMA EN VÍAS LIMITAD...          90   \n",
       "1293087  SOBREPASAR LA VELOCIDAD MÁXIMA EN VÍAS LIMITAD...          90   \n",
       "293196   SOBREPASAR LA VELOCIDAD MÁXIMA EN VÍAS LIMITAD...          90   \n",
       "1480910  SOBREPASAR LA VELOCIDAD MÁXIMA EN VÍAS LIMITAD...          90   \n",
       "479076   SOBREPASAR LA VELOCIDAD MÁXIMA EN VÍAS LIMITAD...          70   \n",
       "293195   SOBREPASAR LA VELOCIDAD MÁXIMA EN VÍAS LIMITAD...          70   \n",
       "913637   SOBREPASAR LA VELOCIDAD MÁXIMA EN VÍAS LIMITAD...          90   \n",
       "1480909  SOBREPASAR LA VELOCIDAD MÁXIMA EN VÍAS LIMITAD...          90   \n",
       "\n",
       "         VEL_CIRCULA  DIFFERENCE_KMH  \n",
       "448783           140              70  \n",
       "1293088          140              70  \n",
       "1671450          160              70  \n",
       "1293087          160              70  \n",
       "293196           160              70  \n",
       "1480910          160              70  \n",
       "479076           139              69  \n",
       "293195           139              69  \n",
       "913637           159              69  \n",
       "1480909          159              69  "
      ]
     },
     "execution_count": 22,
     "metadata": {},
     "output_type": "execute_result"
    }
   ],
   "source": [
    "df.sort_values(\"DIFFERENCE_KMH\", ascending=False).head(10)"
   ]
  },
  {
   "cell_type": "markdown",
   "id": "e57d94df",
   "metadata": {},
   "source": [
    "## Obtain a dataframe filtered by all the complaints that have led to the withdrawal of points (that is, points other than zero). Group the dataframe filtered by the public agent that issues the complaint, which of all the public agents has a higher average point withdrawal?\n"
   ]
  },
  {
   "cell_type": "code",
   "execution_count": 23,
   "id": "2fde5921",
   "metadata": {},
   "outputs": [
    {
     "data": {
      "text/plain": [
       "Index(['CALIFICACION', 'LUGAR', 'MES', 'HORA', 'IMP_BOL', 'PUNTOS',\n",
       "       'DENUNCIANTE', 'HECHO-BOL', 'VEL_LIMITE', 'VEL_CIRCULA',\n",
       "       'DIFFERENCE_KMH'],\n",
       "      dtype='object')"
      ]
     },
     "execution_count": 23,
     "metadata": {},
     "output_type": "execute_result"
    }
   ],
   "source": [
    "df.columns"
   ]
  },
  {
   "cell_type": "markdown",
   "id": "47d92b1f",
   "metadata": {},
   "source": [
    "We have obtained the unique values from the list PUNTOS to see how many points can be taken off for a fine."
   ]
  },
  {
   "cell_type": "code",
   "execution_count": 24,
   "id": "7b40e8d9",
   "metadata": {},
   "outputs": [
    {
     "data": {
      "text/plain": [
       "array([3, 0, 4, 6, 2], dtype=int64)"
      ]
     },
     "execution_count": 24,
     "metadata": {},
     "output_type": "execute_result"
    }
   ],
   "source": [
    "df.PUNTOS.unique()"
   ]
  },
  {
   "cell_type": "markdown",
   "id": "c57b1b46",
   "metadata": {},
   "source": [
    "We converted the whitespace values, which were not numbers, to NaN and then transformed the NaN values to 0. \n",
    "Subsequently, we have transformed all the values in the PUNTOS column to integer.\n",
    "And with the function value_counts() we have obtained the total sum according to the number of points. "
   ]
  },
  {
   "cell_type": "code",
   "execution_count": 25,
   "id": "e9977444",
   "metadata": {},
   "outputs": [
    {
     "data": {
      "text/plain": [
       "PUNTOS\n",
       "0    1932478\n",
       "4      24738\n",
       "2      22439\n",
       "3       7708\n",
       "6       5941\n",
       "dtype: int64"
      ]
     },
     "execution_count": 25,
     "metadata": {},
     "output_type": "execute_result"
    }
   ],
   "source": [
    "df.PUNTOS = df.PUNTOS.replace(r'^\\s*$', np.NaN, regex= True)\n",
    "df.PUNTOS = df.PUNTOS.replace(np.NaN, 0, regex= True)\n",
    "\n",
    "df.PUNTOS  = df.PUNTOS.astype(int)\n",
    "df.value_counts(df.PUNTOS)"
   ]
  },
  {
   "cell_type": "markdown",
   "id": "073430e0",
   "metadata": {},
   "source": [
    "We check if the column data type was changed correctly"
   ]
  },
  {
   "cell_type": "code",
   "execution_count": 26,
   "id": "37baec99",
   "metadata": {},
   "outputs": [
    {
     "data": {
      "text/plain": [
       "dtype('int32')"
      ]
     },
     "execution_count": 26,
     "metadata": {},
     "output_type": "execute_result"
    }
   ],
   "source": [
    "df.PUNTOS.dtypes"
   ]
  },
  {
   "cell_type": "markdown",
   "id": "a3b93369",
   "metadata": {},
   "source": [
    "We get just the rows with fines that result in the lose of points."
   ]
  },
  {
   "cell_type": "code",
   "execution_count": 27,
   "id": "fcdeb843",
   "metadata": {},
   "outputs": [
    {
     "data": {
      "text/html": [
       "<div>\n",
       "<style scoped>\n",
       "    .dataframe tbody tr th:only-of-type {\n",
       "        vertical-align: middle;\n",
       "    }\n",
       "\n",
       "    .dataframe tbody tr th {\n",
       "        vertical-align: top;\n",
       "    }\n",
       "\n",
       "    .dataframe thead th {\n",
       "        text-align: right;\n",
       "    }\n",
       "</style>\n",
       "<table border=\"1\" class=\"dataframe\">\n",
       "  <thead>\n",
       "    <tr style=\"text-align: right;\">\n",
       "      <th></th>\n",
       "      <th>CALIFICACION</th>\n",
       "      <th>LUGAR</th>\n",
       "      <th>MES</th>\n",
       "      <th>HORA</th>\n",
       "      <th>IMP_BOL</th>\n",
       "      <th>PUNTOS</th>\n",
       "      <th>DENUNCIANTE</th>\n",
       "      <th>HECHO-BOL</th>\n",
       "      <th>VEL_LIMITE</th>\n",
       "      <th>VEL_CIRCULA</th>\n",
       "      <th>DIFFERENCE_KMH</th>\n",
       "    </tr>\n",
       "  </thead>\n",
       "  <tbody>\n",
       "    <tr>\n",
       "      <th>0</th>\n",
       "      <td>GRAVE</td>\n",
       "      <td>ALFONSO XII</td>\n",
       "      <td>1</td>\n",
       "      <td>12.18</td>\n",
       "      <td>200.0</td>\n",
       "      <td>3</td>\n",
       "      <td>POLICIA MUNICIPAL</td>\n",
       "      <td>CONDUCIR UTILIZANDO MANUALMENTE TELEFONÍA MÓVI...</td>\n",
       "      <td>0</td>\n",
       "      <td>0</td>\n",
       "      <td>0</td>\n",
       "    </tr>\n",
       "    <tr>\n",
       "      <th>11</th>\n",
       "      <td>GRAVE</td>\n",
       "      <td>FRANCISCO VILLAESPESA 53</td>\n",
       "      <td>1</td>\n",
       "      <td>12.54</td>\n",
       "      <td>200.0</td>\n",
       "      <td>3</td>\n",
       "      <td>POLICIA MUNICIPAL</td>\n",
       "      <td>CONDUCIR UTILIZANDO MANUALMENTE TELEFONÍA MÓVI...</td>\n",
       "      <td>0</td>\n",
       "      <td>0</td>\n",
       "      <td>0</td>\n",
       "    </tr>\n",
       "    <tr>\n",
       "      <th>17</th>\n",
       "      <td>GRAVE</td>\n",
       "      <td>CALLE 30 CALZADA 1 A 5</td>\n",
       "      <td>1</td>\n",
       "      <td>16.45</td>\n",
       "      <td>200.0</td>\n",
       "      <td>4</td>\n",
       "      <td>POLICIA MUNICIPAL</td>\n",
       "      <td>CIRCULAR SIN RESPETAR LA DISTANCIA MÍNIMA DE S...</td>\n",
       "      <td>0</td>\n",
       "      <td>0</td>\n",
       "      <td>0</td>\n",
       "    </tr>\n",
       "    <tr>\n",
       "      <th>25</th>\n",
       "      <td>GRAVE</td>\n",
       "      <td>ALBERTO AGUILERA</td>\n",
       "      <td>1</td>\n",
       "      <td>23.20</td>\n",
       "      <td>200.0</td>\n",
       "      <td>4</td>\n",
       "      <td>POLICIA MUNICIPAL</td>\n",
       "      <td>REBASAR UN SEMÁFORO EN FASE ROJA.             ...</td>\n",
       "      <td>0</td>\n",
       "      <td>0</td>\n",
       "      <td>0</td>\n",
       "    </tr>\n",
       "    <tr>\n",
       "      <th>87</th>\n",
       "      <td>GRAVE</td>\n",
       "      <td>GT PTA TOLEDO-TOLEDO</td>\n",
       "      <td>1</td>\n",
       "      <td>18.18</td>\n",
       "      <td>200.0</td>\n",
       "      <td>4</td>\n",
       "      <td>AGENTES DE MOVILIDAD</td>\n",
       "      <td>REBASAR UN SEMÁFORO EN FASE ROJA.             ...</td>\n",
       "      <td>0</td>\n",
       "      <td>0</td>\n",
       "      <td>0</td>\n",
       "    </tr>\n",
       "    <tr>\n",
       "      <th>...</th>\n",
       "      <td>...</td>\n",
       "      <td>...</td>\n",
       "      <td>...</td>\n",
       "      <td>...</td>\n",
       "      <td>...</td>\n",
       "      <td>...</td>\n",
       "      <td>...</td>\n",
       "      <td>...</td>\n",
       "      <td>...</td>\n",
       "      <td>...</td>\n",
       "      <td>...</td>\n",
       "    </tr>\n",
       "    <tr>\n",
       "      <th>1983140</th>\n",
       "      <td>GRAVE</td>\n",
       "      <td>ORENSE 21</td>\n",
       "      <td>12</td>\n",
       "      <td>19.58</td>\n",
       "      <td>200.0</td>\n",
       "      <td>3</td>\n",
       "      <td>POLICIA MUNICIPAL</td>\n",
       "      <td>EFECTUAR UN CAMBIO DE SENTIDO PROHIBIDO.      ...</td>\n",
       "      <td>0</td>\n",
       "      <td>0</td>\n",
       "      <td>0</td>\n",
       "    </tr>\n",
       "    <tr>\n",
       "      <th>1983141</th>\n",
       "      <td>MUY GRAVE</td>\n",
       "      <td>GTA EMILIO CASTELAR SN</td>\n",
       "      <td>12</td>\n",
       "      <td>6.43</td>\n",
       "      <td>1000.0</td>\n",
       "      <td>6</td>\n",
       "      <td>POLICIA MUNICIPAL</td>\n",
       "      <td>CONDUCIR CON UNA TASA DE ALCOHOLEMIA NO PERMIT...</td>\n",
       "      <td>0</td>\n",
       "      <td>0</td>\n",
       "      <td>0</td>\n",
       "    </tr>\n",
       "    <tr>\n",
       "      <th>1983143</th>\n",
       "      <td>GRAVE</td>\n",
       "      <td>PZ FERNANDEZ LADREDA</td>\n",
       "      <td>12</td>\n",
       "      <td>19.05</td>\n",
       "      <td>200.0</td>\n",
       "      <td>4</td>\n",
       "      <td>POLICIA MUNICIPAL</td>\n",
       "      <td>REBASAR UN SEMÁFORO EN FASE ROJA.             ...</td>\n",
       "      <td>0</td>\n",
       "      <td>0</td>\n",
       "      <td>0</td>\n",
       "    </tr>\n",
       "    <tr>\n",
       "      <th>1983144</th>\n",
       "      <td>GRAVE</td>\n",
       "      <td>ALCALA 406</td>\n",
       "      <td>12</td>\n",
       "      <td>18.15</td>\n",
       "      <td>200.0</td>\n",
       "      <td>3</td>\n",
       "      <td>POLICIA MUNICIPAL</td>\n",
       "      <td>CONDUCIR UTILIZANDO MANUALMENTE TELEFONÍA MÓVI...</td>\n",
       "      <td>0</td>\n",
       "      <td>0</td>\n",
       "      <td>0</td>\n",
       "    </tr>\n",
       "    <tr>\n",
       "      <th>1983145</th>\n",
       "      <td>MUY GRAVE</td>\n",
       "      <td>GTA CADIZ-ANTONIO LOPEZ</td>\n",
       "      <td>12</td>\n",
       "      <td>1.34</td>\n",
       "      <td>1000.0</td>\n",
       "      <td>6</td>\n",
       "      <td>POLICIA MUNICIPAL</td>\n",
       "      <td>CONDUCIR CON UNA TASA DE ALCOHOLEMIA NO PERMIT...</td>\n",
       "      <td>0</td>\n",
       "      <td>0</td>\n",
       "      <td>0</td>\n",
       "    </tr>\n",
       "  </tbody>\n",
       "</table>\n",
       "<p>60826 rows × 11 columns</p>\n",
       "</div>"
      ],
      "text/plain": [
       "        CALIFICACION                                     LUGAR  MES   HORA  \\\n",
       "0         GRAVE       ALFONSO XII                                 1  12.18   \n",
       "11        GRAVE       FRANCISCO VILLAESPESA 53                    1  12.54   \n",
       "17        GRAVE       CALLE 30 CALZADA 1 A 5                      1  16.45   \n",
       "25        GRAVE       ALBERTO AGUILERA                            1  23.20   \n",
       "87        GRAVE       GT PTA TOLEDO-TOLEDO                        1  18.18   \n",
       "...              ...                                       ...  ...    ...   \n",
       "1983140   GRAVE       ORENSE 21                                  12  19.58   \n",
       "1983141   MUY GRAVE   GTA EMILIO CASTELAR SN                     12   6.43   \n",
       "1983143   GRAVE       PZ FERNANDEZ LADREDA                       12  19.05   \n",
       "1983144   GRAVE       ALCALA 406                                 12  18.15   \n",
       "1983145   MUY GRAVE   GTA CADIZ-ANTONIO LOPEZ                    12   1.34   \n",
       "\n",
       "         IMP_BOL  PUNTOS           DENUNCIANTE  \\\n",
       "0          200.0       3  POLICIA MUNICIPAL      \n",
       "11         200.0       3  POLICIA MUNICIPAL      \n",
       "17         200.0       4  POLICIA MUNICIPAL      \n",
       "25         200.0       4  POLICIA MUNICIPAL      \n",
       "87         200.0       4  AGENTES DE MOVILIDAD   \n",
       "...          ...     ...                   ...   \n",
       "1983140    200.0       3  POLICIA MUNICIPAL      \n",
       "1983141   1000.0       6  POLICIA MUNICIPAL      \n",
       "1983143    200.0       4  POLICIA MUNICIPAL      \n",
       "1983144    200.0       3  POLICIA MUNICIPAL      \n",
       "1983145   1000.0       6  POLICIA MUNICIPAL      \n",
       "\n",
       "                                                 HECHO-BOL  VEL_LIMITE  \\\n",
       "0        CONDUCIR UTILIZANDO MANUALMENTE TELEFONÍA MÓVI...           0   \n",
       "11       CONDUCIR UTILIZANDO MANUALMENTE TELEFONÍA MÓVI...           0   \n",
       "17       CIRCULAR SIN RESPETAR LA DISTANCIA MÍNIMA DE S...           0   \n",
       "25       REBASAR UN SEMÁFORO EN FASE ROJA.             ...           0   \n",
       "87       REBASAR UN SEMÁFORO EN FASE ROJA.             ...           0   \n",
       "...                                                    ...         ...   \n",
       "1983140  EFECTUAR UN CAMBIO DE SENTIDO PROHIBIDO.      ...           0   \n",
       "1983141  CONDUCIR CON UNA TASA DE ALCOHOLEMIA NO PERMIT...           0   \n",
       "1983143  REBASAR UN SEMÁFORO EN FASE ROJA.             ...           0   \n",
       "1983144  CONDUCIR UTILIZANDO MANUALMENTE TELEFONÍA MÓVI...           0   \n",
       "1983145  CONDUCIR CON UNA TASA DE ALCOHOLEMIA NO PERMIT...           0   \n",
       "\n",
       "         VEL_CIRCULA  DIFFERENCE_KMH  \n",
       "0                  0               0  \n",
       "11                 0               0  \n",
       "17                 0               0  \n",
       "25                 0               0  \n",
       "87                 0               0  \n",
       "...              ...             ...  \n",
       "1983140            0               0  \n",
       "1983141            0               0  \n",
       "1983143            0               0  \n",
       "1983144            0               0  \n",
       "1983145            0               0  \n",
       "\n",
       "[60826 rows x 11 columns]"
      ]
     },
     "execution_count": 27,
     "metadata": {},
     "output_type": "execute_result"
    }
   ],
   "source": [
    "#We get just rows were points value is different to 0\n",
    "df_points= df[df.PUNTOS!=0]\n",
    "df_points"
   ]
  },
  {
   "cell_type": "markdown",
   "id": "34d194f2",
   "metadata": {},
   "source": [
    "We group by the public agents that make the complaint and sum the total of points that each one took.\n",
    "This way We can see who is the public agency that took more points."
   ]
  },
  {
   "cell_type": "code",
   "execution_count": 28,
   "id": "b8d89945",
   "metadata": {},
   "outputs": [
    {
     "data": {
      "text/html": [
       "<div>\n",
       "<style scoped>\n",
       "    .dataframe tbody tr th:only-of-type {\n",
       "        vertical-align: middle;\n",
       "    }\n",
       "\n",
       "    .dataframe tbody tr th {\n",
       "        vertical-align: top;\n",
       "    }\n",
       "\n",
       "    .dataframe thead th {\n",
       "        text-align: right;\n",
       "    }\n",
       "</style>\n",
       "<table border=\"1\" class=\"dataframe\">\n",
       "  <thead>\n",
       "    <tr style=\"text-align: right;\">\n",
       "      <th></th>\n",
       "      <th>MES</th>\n",
       "      <th>HORA</th>\n",
       "      <th>IMP_BOL</th>\n",
       "      <th>PUNTOS</th>\n",
       "      <th>VEL_LIMITE</th>\n",
       "      <th>VEL_CIRCULA</th>\n",
       "      <th>DIFFERENCE_KMH</th>\n",
       "    </tr>\n",
       "    <tr>\n",
       "      <th>DENUNCIANTE</th>\n",
       "      <th></th>\n",
       "      <th></th>\n",
       "      <th></th>\n",
       "      <th></th>\n",
       "      <th></th>\n",
       "      <th></th>\n",
       "      <th></th>\n",
       "    </tr>\n",
       "  </thead>\n",
       "  <tbody>\n",
       "    <tr>\n",
       "      <th>AGENTES DE MOVILIDAD</th>\n",
       "      <td>125823</td>\n",
       "      <td>245714.17</td>\n",
       "      <td>3621900.0</td>\n",
       "      <td>68437</td>\n",
       "      <td>12750</td>\n",
       "      <td>19382</td>\n",
       "      <td>6632</td>\n",
       "    </tr>\n",
       "    <tr>\n",
       "      <th>POLICIA MUNICIPAL</th>\n",
       "      <td>273693</td>\n",
       "      <td>544027.00</td>\n",
       "      <td>15306100.0</td>\n",
       "      <td>134163</td>\n",
       "      <td>1525090</td>\n",
       "      <td>2347810</td>\n",
       "      <td>822720</td>\n",
       "    </tr>\n",
       "  </tbody>\n",
       "</table>\n",
       "</div>"
      ],
      "text/plain": [
       "                         MES       HORA     IMP_BOL  PUNTOS  VEL_LIMITE  \\\n",
       "DENUNCIANTE                                                               \n",
       "AGENTES DE MOVILIDAD  125823  245714.17   3621900.0   68437       12750   \n",
       "POLICIA MUNICIPAL     273693  544027.00  15306100.0  134163     1525090   \n",
       "\n",
       "                      VEL_CIRCULA  DIFFERENCE_KMH  \n",
       "DENUNCIANTE                                        \n",
       "AGENTES DE MOVILIDAD        19382            6632  \n",
       "POLICIA MUNICIPAL         2347810          822720  "
      ]
     },
     "execution_count": 28,
     "metadata": {},
     "output_type": "execute_result"
    }
   ],
   "source": [
    "#We group by the DENUNCIANTE column and sum all points for each public agency\n",
    "df_points.groupby(\"DENUNCIANTE\").sum()"
   ]
  },
  {
   "cell_type": "markdown",
   "id": "189a53a0",
   "metadata": {},
   "source": [
    "As what we are interested in are the quantities in the PUNTOS column, we get just this column."
   ]
  },
  {
   "cell_type": "code",
   "execution_count": 29,
   "id": "16fb7c9b",
   "metadata": {},
   "outputs": [
    {
     "data": {
      "text/plain": [
       "DENUNCIANTE\n",
       "AGENTES DE MOVILIDAD     68437\n",
       "POLICIA MUNICIPAL       134163\n",
       "Name: PUNTOS, dtype: int32"
      ]
     },
     "execution_count": 29,
     "metadata": {},
     "output_type": "execute_result"
    }
   ],
   "source": [
    "points_taken = df_points.groupby(\"DENUNCIANTE\").sum()[\"PUNTOS\"]\n",
    "points_taken"
   ]
  },
  {
   "cell_type": "markdown",
   "id": "319ed093",
   "metadata": {},
   "source": [
    "The sum of all the values in the POINTS column has been calculated, to confirm that it is the same amount as the sum of the values for AGENTES DE MOVILIDAD and POLICIA MUNICIPAL."
   ]
  },
  {
   "cell_type": "code",
   "execution_count": 30,
   "id": "7a0639fc",
   "metadata": {},
   "outputs": [
    {
     "data": {
      "text/plain": [
       "202600"
      ]
     },
     "execution_count": 30,
     "metadata": {},
     "output_type": "execute_result"
    }
   ],
   "source": [
    "total_points_taken = df_points.PUNTOS.sum()\n",
    "total_points_taken"
   ]
  },
  {
   "cell_type": "code",
   "execution_count": 31,
   "id": "8deaff9e",
   "metadata": {},
   "outputs": [
    {
     "data": {
      "text/plain": [
       "True"
      ]
     },
     "execution_count": 31,
     "metadata": {},
     "output_type": "execute_result"
    }
   ],
   "source": [
    "points_taken.sum() == total_points_taken"
   ]
  },
  {
   "cell_type": "markdown",
   "id": "e716a99b",
   "metadata": {},
   "source": [
    "## Eliminate the decimal part from the hour column, then, shows graphically in which hours more fines have occurred.\n"
   ]
  },
  {
   "cell_type": "markdown",
   "id": "d136f0aa",
   "metadata": {},
   "source": [
    "The values of the HORA column have been transformed to integer so that it loses the decimal part and has been stored in the hours variable to be able to work with this data in a more manageable way.\n",
    "\n",
    "The `value_counts()` function has been applied to see the result of the sum of the number of times it appears each hour. \n",
    "\n",
    "To create the barplot, for the x-axis, we have taken the hours and in the y-axis we have taken the fines.\n"
   ]
  },
  {
   "cell_type": "code",
   "execution_count": 32,
   "id": "bd712f6a",
   "metadata": {
    "scrolled": true
   },
   "outputs": [
    {
     "name": "stdout",
     "output_type": "stream",
     "text": [
      "10    173426\n",
      "13    172800\n",
      "11    166508\n",
      "12    161114\n",
      "9     153981\n",
      "17    141545\n",
      "14    138095\n",
      "18    127773\n",
      "16    124344\n",
      "19    123612\n",
      "20    101182\n",
      "15     99054\n",
      "8      59261\n",
      "21     54539\n",
      "22     38074\n",
      "23     31988\n",
      "7      31842\n",
      "0      29284\n",
      "1      17987\n",
      "6      16999\n",
      "2      10675\n",
      "5       7081\n",
      "3       6549\n",
      "4       5591\n",
      "Name: HORA, dtype: int64\n"
     ]
    }
   ],
   "source": [
    "df.HORA = df.HORA.astype(int)\n",
    "hours = df.HORA\n",
    "\n",
    "#We obtain the axis values from here\n",
    "#numbers of fines taken at each hour\n",
    "print(hours.value_counts())\n",
    "\n"
   ]
  },
  {
   "cell_type": "markdown",
   "id": "5e74819e",
   "metadata": {},
   "source": [
    "We make use of the libraries MATPLOTLIB and SEABORN to the plotting\n"
   ]
  },
  {
   "cell_type": "code",
   "execution_count": 33,
   "id": "cd23b76d",
   "metadata": {},
   "outputs": [
    {
     "data": {
      "image/png": "[encoded data removed]",
      "text/plain": [
       "<Figure size 640x480 with 1 Axes>"
      ]
     },
     "metadata": {},
     "output_type": "display_data"
    }
   ],
   "source": [
    "plt.bar(hours.value_counts().keys().tolist(), hours.value_counts().tolist())\n",
    "\n",
    "plt.xlabel(\"HOURS\")\n",
    "plt.ylabel(\"FINES\")\n",
    "\n",
    "plt.show()"
   ]
  },
  {
   "cell_type": "markdown",
   "id": "45f09a68",
   "metadata": {},
   "source": [
    "We can observe that more fines were taken near the noon."
   ]
  },
  {
   "cell_type": "markdown",
   "id": "2b2edad2",
   "metadata": {},
   "source": [
    "## Graphically shows the fines made during the months of 2020. Knowing that the confinement in Spain began in March of that year, is the effect of the pandemic noticeable?\n"
   ]
  },
  {
   "cell_type": "markdown",
   "id": "3321662e",
   "metadata": {},
   "source": [
    "We obtain the total count of fines taken in each month. To do it We used the function count.plot() has been applied, which gives the count of the number of repeated values in the column MONTH. "
   ]
  },
  {
   "cell_type": "code",
   "execution_count": 34,
   "id": "785dbec4",
   "metadata": {},
   "outputs": [
    {
     "data": {
      "image/png": "[encoded data removed]",
      "text/plain": [
       "<Figure size 640x480 with 1 Axes>"
      ]
     },
     "metadata": {},
     "output_type": "display_data"
    }
   ],
   "source": [
    "#Plots the count of rows for each MONTH in the dataframe in green degraded\n",
    "sns.countplot(x= \"MES\", data= df, palette= \"Greens_d\")\n",
    "\n",
    "plt.show()"
   ]
  },
  {
   "cell_type": "markdown",
   "id": "664525e9",
   "metadata": {},
   "source": [
    "## Shows graphically the number of infractions (without accumulated frequency), of each of the public agents based on the classification of the infraction"
   ]
  },
  {
   "cell_type": "markdown",
   "id": "c931d007",
   "metadata": {},
   "source": [
    "We use again the `countplot()` function to plot to show how many fines of each rating there is.\n",
    "But this time We separate by public agency each in rating count."
   ]
  },
  {
   "cell_type": "code",
   "execution_count": 45,
   "id": "cfbb4b47",
   "metadata": {
    "scrolled": true
   },
   "outputs": [
    {
     "data": {
      "image/png": "[encoded data removed]",
      "text/plain": [
       "<Figure size 1000x300 with 1 Axes>"
      ]
     },
     "metadata": {},
     "output_type": "display_data"
    }
   ],
   "source": [
    "#We change the size of the plot so it can be full viewed \n",
    "f = plt.figure()\n",
    "f.set_figwidth(10)\n",
    "f.set_figheight(3)\n",
    "\n",
    "\n",
    "#plots the count of fines of each rating for each public agency\n",
    "#with a legend that indicates which public agency has make the complaint\n",
    "sns.countplot(data = df, x = \"CALIFICACION\", hue = df.DENUNCIANTE, orient=\"h\")\n",
    "\n",
    "#We choose to put the legend at a position that let the result be viewed\n",
    "plt.legend(loc='upper right')\n",
    "plt.show()"
   ]
  },
  {
   "cell_type": "markdown",
   "id": "6970193a",
   "metadata": {},
   "source": [
    "We observe that POLICIA MUNICIPAL is the one that makes more complaints serious complaints.\n",
    "SER and AGENTES DE MOVILIDAD are the agencies that make more minor complaints."
   ]
  }
 ],
 "metadata": {
  "kernelspec": {
   "display_name": "Python 3 (ipykernel)",
   "language": "python",
   "name": "python3"
  },
  "language_info": {
   "codemirror_mode": {
    "name": "ipython",
    "version": 3
   },
   "file_extension": ".py",
   "mimetype": "text/x-python",
   "name": "python",
   "nbconvert_exporter": "python",
   "pygments_lexer": "ipython3",
   "version": "3.9.13"
  },
  "toc": {
   "base_numbering": 1,
   "nav_menu": {},
   "number_sections": true,
   "sideBar": true,
   "skip_h1_title": false,
   "title_cell": "Table of Contents",
   "title_sidebar": "Contents",
   "toc_cell": false,
   "toc_position": {},
   "toc_section_display": true,
   "toc_window_display": false
  },
  "varInspector": {
   "cols": {
    "lenName": 16,
    "lenType": 16,
    "lenVar": 40
   },
   "kernels_config": {
    "python": {
     "delete_cmd_postfix": "",
     "delete_cmd_prefix": "del ",
     "library": "var_list.py",
     "varRefreshCmd": "print(var_dic_list())"
    },
    "r": {
     "delete_cmd_postfix": ") ",
     "delete_cmd_prefix": "rm(",
     "library": "var_list.r",
     "varRefreshCmd": "cat(var_dic_list()) "
    }
   },
   "types_to_exclude": [
    "module",
    "function",
    "builtin_function_or_method",
    "instance",
    "_Feature"
   ],
   "window_display": false
  }
 },
 "nbformat": 4,
 "nbformat_minor": 5
}
